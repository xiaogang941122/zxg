{
 "cells": [
  {
   "cell_type": "markdown",
   "metadata": {},
   "source": [
    "##### import os\n",
    "os.environ['PYTHONHASHSEED'] = '0'\n",
    "os.environ[\"CUDA_VISIBLE_DEVICES\"]=\"\""
   ]
  },
  {
   "cell_type": "code",
   "metadata": {
    "ExecuteTime": {
     "end_time": "2024-10-02T02:48:48.105553Z",
     "start_time": "2024-10-02T02:48:43.305247Z"
    }
   },
   "source": [
    "import numpy as np\n",
    "my_seed =5 ##5可以\n",
    "np.random.seed(my_seed)\n",
    "import random \n",
    "random.seed(my_seed)\n",
    "import tensorflow as tf\n",
    "\n",
    "tf.random.set_seed(my_seed)"
   ],
   "outputs": [],
   "execution_count": 1
  },
  {
   "cell_type": "code",
   "metadata": {
    "ExecuteTime": {
     "end_time": "2024-10-02T02:48:48.118700Z",
     "start_time": "2024-10-02T02:48:48.115373Z"
    }
   },
   "source": [
    "zhou = 4\n",
    "dian = 10"
   ],
   "outputs": [],
   "execution_count": 2
  },
  {
   "cell_type": "code",
   "metadata": {
    "ExecuteTime": {
     "end_time": "2024-10-02T02:48:48.241207Z",
     "start_time": "2024-10-02T02:48:48.121722Z"
    }
   },
   "source": [
    "import matplotlib.pyplot as plt\n",
    "\n",
    "import pandas as pd\n",
    "import seaborn as sns\n",
    "from numpy import concatenate\n",
    "from matplotlib import pyplot\n",
    "from pandas import concat\n",
    "from sklearn.preprocessing import LabelEncoder\n",
    "from sklearn.metrics import mean_squared_error\n",
    "from pandas import DataFrame\n",
    "from pandas import concat\n",
    "from sklearn.preprocessing import StandardScaler,Normalizer,MinMaxScaler\n",
    "from keras.layers import *\n",
    "from keras.models import *\n",
    "#导入时间库计时\n",
    "import time\n",
    "import warnings\n",
    "%matplotlib inline\n",
    "# %config InlineBackend.figure_format = 'svg'\n",
    "#设置字体为SimHei显示中文  #设置正常显示字符\n",
    "plt.rcParams['font.sans-serif'] = ['SimHei']\n",
    "plt.rcParams['axes.unicode_minus'] = False\n",
    "warnings.filterwarnings(\"ignore\")\n"
   ],
   "outputs": [],
   "execution_count": 3
  },
  {
   "cell_type": "code",
   "metadata": {
    "ExecuteTime": {
     "end_time": "2024-10-02T02:48:48.336026Z",
     "start_time": "2024-10-02T02:48:48.331114Z"
    }
   },
   "source": [
    "plt.rc('font', family='Times New Roman')\n",
    "plt.rc('axes', labelsize=22)\n",
    "plt.rc('xtick', labelsize=17, color='grey')\n",
    "plt.rc('ytick', labelsize=17, color='grey')\n",
    "plt.rc('legend', fontsize=15, loc='lower left')\n",
    "plt.rc('figure', titlesize=12)\n",
    "plt.rc('savefig', dpi=500, bbox='tight')\n",
    "%matplotlib inline\n",
    "\n",
    "default_colors = plt.rcParams['axes.prop_cycle'].by_key()['color']"
   ],
   "outputs": [],
   "execution_count": 4
  },
  {
   "cell_type": "code",
   "metadata": {
    "ExecuteTime": {
     "end_time": "2024-10-02T02:48:48.412385Z",
     "start_time": "2024-10-02T02:48:48.341562Z"
    }
   },
   "source": [
    "df = pd.read_csv(r\"E:\\桌面\\活\\活2（python）\\特征选择-csv文件\\筛选后的负荷与其它特征.csv\")"
   ],
   "outputs": [],
   "execution_count": 5
  },
  {
   "cell_type": "code",
   "metadata": {
    "ExecuteTime": {
     "end_time": "2024-10-02T02:48:48.430374Z",
     "start_time": "2024-10-02T02:48:48.424719Z"
    }
   },
   "source": [
    "df = df.set_index(\"datetime\")"
   ],
   "outputs": [],
   "execution_count": 6
  },
  {
   "cell_type": "code",
   "metadata": {
    "ExecuteTime": {
     "end_time": "2024-10-02T02:48:48.442386Z",
     "start_time": "2024-10-02T02:48:48.439828Z"
    }
   },
   "source": [],
   "outputs": [],
   "execution_count": null
  },
  {
   "cell_type": "code",
   "metadata": {
    "ExecuteTime": {
     "end_time": "2024-10-02T02:48:48.462906Z",
     "start_time": "2024-10-02T02:48:48.451761Z"
    }
   },
   "source": [
    "df  =df['2015-01-04':'2020-03-09']"
   ],
   "outputs": [],
   "execution_count": 7
  },
  {
   "cell_type": "code",
   "metadata": {
    "ExecuteTime": {
     "end_time": "2024-10-02T02:48:48.493884Z",
     "start_time": "2024-10-02T02:48:48.481478Z"
    }
   },
   "source": [
    "df"
   ],
   "outputs": [
    {
     "data": {
      "text/plain": [
       "                     nat_demand    T2M_toc  QV2M_toc   TQL_toc    W2M_toc  \\\n",
       "datetime                                                                    \n",
       "2015-01-04 00:00:00    968.0526  25.769189  0.018555  0.003251  19.700352   \n",
       "2015-01-04 01:00:00    944.0556  25.681818  0.018494  0.003898  19.893350   \n",
       "2015-01-04 02:00:00    928.7193  25.602319  0.018486  0.004625  19.863871   \n",
       "2015-01-04 03:00:00    909.5566  25.572656  0.018448  0.008533  20.362023   \n",
       "2015-01-04 04:00:00    894.6543  25.547144  0.018409  0.008694  20.651574   \n",
       "...                         ...        ...       ...       ...        ...   \n",
       "2020-03-08 19:00:00   1280.9166  26.195520  0.015070  0.013897  26.664170   \n",
       "2020-03-08 20:00:00   1283.4224  26.030908  0.015139  0.014648  26.250229   \n",
       "2020-03-08 21:00:00   1277.9559  25.977258  0.015112  0.013309  26.495268   \n",
       "2020-03-08 22:00:00   1231.6496  25.890039  0.015173  0.015747  27.659957   \n",
       "2020-03-08 23:00:00   1195.4730  25.742578  0.015295  0.020172  28.977717   \n",
       "\n",
       "                       T2M_san    T2M_dav  Holiday_ID  holiday  hour_of_day  \\\n",
       "datetime                                                                      \n",
       "2015-01-04 00:00:00  23.823877  22.730127           0        0            0   \n",
       "2015-01-04 01:00:00  23.627130  22.533380           0        0            1   \n",
       "2015-01-04 02:00:00  23.477319  22.360132           0        0            2   \n",
       "2015-01-04 03:00:00  23.369531  22.244531           0        0            3   \n",
       "2015-01-04 04:00:00  23.281519  22.148706           0        0            4   \n",
       "...                        ...        ...         ...      ...          ...   \n",
       "2020-03-08 19:00:00  26.258020  24.133020           0        0           19   \n",
       "2020-03-08 20:00:00  25.640283  23.609033           0        0           20   \n",
       "2020-03-08 21:00:00  25.289758  23.352258           0        0           21   \n",
       "2020-03-08 22:00:00  25.030664  23.218164           0        0           22   \n",
       "2020-03-08 23:00:00  24.820703  23.117578           0        0           23   \n",
       "\n",
       "                     month_of_year  day_of_week  working_day  \n",
       "datetime                                                      \n",
       "2015-01-04 00:00:00              1            7            0  \n",
       "2015-01-04 01:00:00              1            7            0  \n",
       "2015-01-04 02:00:00              1            7            0  \n",
       "2015-01-04 03:00:00              1            7            0  \n",
       "2015-01-04 04:00:00              1            7            0  \n",
       "...                            ...          ...          ...  \n",
       "2020-03-08 19:00:00              3            7            0  \n",
       "2020-03-08 20:00:00              3            7            0  \n",
       "2020-03-08 21:00:00              3            7            0  \n",
       "2020-03-08 22:00:00              3            7            0  \n",
       "2020-03-08 23:00:00              3            7            0  \n",
       "\n",
       "[45384 rows x 13 columns]"
      ],
      "text/html": [
       "<div>\n",
       "<style scoped>\n",
       "    .dataframe tbody tr th:only-of-type {\n",
       "        vertical-align: middle;\n",
       "    }\n",
       "\n",
       "    .dataframe tbody tr th {\n",
       "        vertical-align: top;\n",
       "    }\n",
       "\n",
       "    .dataframe thead th {\n",
       "        text-align: right;\n",
       "    }\n",
       "</style>\n",
       "<table border=\"1\" class=\"dataframe\">\n",
       "  <thead>\n",
       "    <tr style=\"text-align: right;\">\n",
       "      <th></th>\n",
       "      <th>nat_demand</th>\n",
       "      <th>T2M_toc</th>\n",
       "      <th>QV2M_toc</th>\n",
       "      <th>TQL_toc</th>\n",
       "      <th>W2M_toc</th>\n",
       "      <th>T2M_san</th>\n",
       "      <th>T2M_dav</th>\n",
       "      <th>Holiday_ID</th>\n",
       "      <th>holiday</th>\n",
       "      <th>hour_of_day</th>\n",
       "      <th>month_of_year</th>\n",
       "      <th>day_of_week</th>\n",
       "      <th>working_day</th>\n",
       "    </tr>\n",
       "    <tr>\n",
       "      <th>datetime</th>\n",
       "      <th></th>\n",
       "      <th></th>\n",
       "      <th></th>\n",
       "      <th></th>\n",
       "      <th></th>\n",
       "      <th></th>\n",
       "      <th></th>\n",
       "      <th></th>\n",
       "      <th></th>\n",
       "      <th></th>\n",
       "      <th></th>\n",
       "      <th></th>\n",
       "      <th></th>\n",
       "    </tr>\n",
       "  </thead>\n",
       "  <tbody>\n",
       "    <tr>\n",
       "      <th>2015-01-04 00:00:00</th>\n",
       "      <td>968.0526</td>\n",
       "      <td>25.769189</td>\n",
       "      <td>0.018555</td>\n",
       "      <td>0.003251</td>\n",
       "      <td>19.700352</td>\n",
       "      <td>23.823877</td>\n",
       "      <td>22.730127</td>\n",
       "      <td>0</td>\n",
       "      <td>0</td>\n",
       "      <td>0</td>\n",
       "      <td>1</td>\n",
       "      <td>7</td>\n",
       "      <td>0</td>\n",
       "    </tr>\n",
       "    <tr>\n",
       "      <th>2015-01-04 01:00:00</th>\n",
       "      <td>944.0556</td>\n",
       "      <td>25.681818</td>\n",
       "      <td>0.018494</td>\n",
       "      <td>0.003898</td>\n",
       "      <td>19.893350</td>\n",
       "      <td>23.627130</td>\n",
       "      <td>22.533380</td>\n",
       "      <td>0</td>\n",
       "      <td>0</td>\n",
       "      <td>1</td>\n",
       "      <td>1</td>\n",
       "      <td>7</td>\n",
       "      <td>0</td>\n",
       "    </tr>\n",
       "    <tr>\n",
       "      <th>2015-01-04 02:00:00</th>\n",
       "      <td>928.7193</td>\n",
       "      <td>25.602319</td>\n",
       "      <td>0.018486</td>\n",
       "      <td>0.004625</td>\n",
       "      <td>19.863871</td>\n",
       "      <td>23.477319</td>\n",
       "      <td>22.360132</td>\n",
       "      <td>0</td>\n",
       "      <td>0</td>\n",
       "      <td>2</td>\n",
       "      <td>1</td>\n",
       "      <td>7</td>\n",
       "      <td>0</td>\n",
       "    </tr>\n",
       "    <tr>\n",
       "      <th>2015-01-04 03:00:00</th>\n",
       "      <td>909.5566</td>\n",
       "      <td>25.572656</td>\n",
       "      <td>0.018448</td>\n",
       "      <td>0.008533</td>\n",
       "      <td>20.362023</td>\n",
       "      <td>23.369531</td>\n",
       "      <td>22.244531</td>\n",
       "      <td>0</td>\n",
       "      <td>0</td>\n",
       "      <td>3</td>\n",
       "      <td>1</td>\n",
       "      <td>7</td>\n",
       "      <td>0</td>\n",
       "    </tr>\n",
       "    <tr>\n",
       "      <th>2015-01-04 04:00:00</th>\n",
       "      <td>894.6543</td>\n",
       "      <td>25.547144</td>\n",
       "      <td>0.018409</td>\n",
       "      <td>0.008694</td>\n",
       "      <td>20.651574</td>\n",
       "      <td>23.281519</td>\n",
       "      <td>22.148706</td>\n",
       "      <td>0</td>\n",
       "      <td>0</td>\n",
       "      <td>4</td>\n",
       "      <td>1</td>\n",
       "      <td>7</td>\n",
       "      <td>0</td>\n",
       "    </tr>\n",
       "    <tr>\n",
       "      <th>...</th>\n",
       "      <td>...</td>\n",
       "      <td>...</td>\n",
       "      <td>...</td>\n",
       "      <td>...</td>\n",
       "      <td>...</td>\n",
       "      <td>...</td>\n",
       "      <td>...</td>\n",
       "      <td>...</td>\n",
       "      <td>...</td>\n",
       "      <td>...</td>\n",
       "      <td>...</td>\n",
       "      <td>...</td>\n",
       "      <td>...</td>\n",
       "    </tr>\n",
       "    <tr>\n",
       "      <th>2020-03-08 19:00:00</th>\n",
       "      <td>1280.9166</td>\n",
       "      <td>26.195520</td>\n",
       "      <td>0.015070</td>\n",
       "      <td>0.013897</td>\n",
       "      <td>26.664170</td>\n",
       "      <td>26.258020</td>\n",
       "      <td>24.133020</td>\n",
       "      <td>0</td>\n",
       "      <td>0</td>\n",
       "      <td>19</td>\n",
       "      <td>3</td>\n",
       "      <td>7</td>\n",
       "      <td>0</td>\n",
       "    </tr>\n",
       "    <tr>\n",
       "      <th>2020-03-08 20:00:00</th>\n",
       "      <td>1283.4224</td>\n",
       "      <td>26.030908</td>\n",
       "      <td>0.015139</td>\n",
       "      <td>0.014648</td>\n",
       "      <td>26.250229</td>\n",
       "      <td>25.640283</td>\n",
       "      <td>23.609033</td>\n",
       "      <td>0</td>\n",
       "      <td>0</td>\n",
       "      <td>20</td>\n",
       "      <td>3</td>\n",
       "      <td>7</td>\n",
       "      <td>0</td>\n",
       "    </tr>\n",
       "    <tr>\n",
       "      <th>2020-03-08 21:00:00</th>\n",
       "      <td>1277.9559</td>\n",
       "      <td>25.977258</td>\n",
       "      <td>0.015112</td>\n",
       "      <td>0.013309</td>\n",
       "      <td>26.495268</td>\n",
       "      <td>25.289758</td>\n",
       "      <td>23.352258</td>\n",
       "      <td>0</td>\n",
       "      <td>0</td>\n",
       "      <td>21</td>\n",
       "      <td>3</td>\n",
       "      <td>7</td>\n",
       "      <td>0</td>\n",
       "    </tr>\n",
       "    <tr>\n",
       "      <th>2020-03-08 22:00:00</th>\n",
       "      <td>1231.6496</td>\n",
       "      <td>25.890039</td>\n",
       "      <td>0.015173</td>\n",
       "      <td>0.015747</td>\n",
       "      <td>27.659957</td>\n",
       "      <td>25.030664</td>\n",
       "      <td>23.218164</td>\n",
       "      <td>0</td>\n",
       "      <td>0</td>\n",
       "      <td>22</td>\n",
       "      <td>3</td>\n",
       "      <td>7</td>\n",
       "      <td>0</td>\n",
       "    </tr>\n",
       "    <tr>\n",
       "      <th>2020-03-08 23:00:00</th>\n",
       "      <td>1195.4730</td>\n",
       "      <td>25.742578</td>\n",
       "      <td>0.015295</td>\n",
       "      <td>0.020172</td>\n",
       "      <td>28.977717</td>\n",
       "      <td>24.820703</td>\n",
       "      <td>23.117578</td>\n",
       "      <td>0</td>\n",
       "      <td>0</td>\n",
       "      <td>23</td>\n",
       "      <td>3</td>\n",
       "      <td>7</td>\n",
       "      <td>0</td>\n",
       "    </tr>\n",
       "  </tbody>\n",
       "</table>\n",
       "<p>45384 rows × 13 columns</p>\n",
       "</div>"
      ]
     },
     "execution_count": 8,
     "metadata": {},
     "output_type": "execute_result"
    }
   ],
   "execution_count": 8
  },
  {
   "cell_type": "code",
   "metadata": {
    "ExecuteTime": {
     "end_time": "2024-10-02T02:48:48.514915Z",
     "start_time": "2024-10-02T02:48:48.510961Z"
    }
   },
   "source": [
    "true_Y = df.iloc[-24*7:,0].values.copy()"
   ],
   "outputs": [],
   "execution_count": 9
  },
  {
   "cell_type": "code",
   "metadata": {
    "ExecuteTime": {
     "end_time": "2024-10-02T02:48:48.552572Z",
     "start_time": "2024-10-02T02:48:48.542452Z"
    }
   },
   "source": [
    "df"
   ],
   "outputs": [
    {
     "data": {
      "text/plain": [
       "                     nat_demand    T2M_toc  QV2M_toc   TQL_toc    W2M_toc  \\\n",
       "datetime                                                                    \n",
       "2015-01-04 00:00:00    968.0526  25.769189  0.018555  0.003251  19.700352   \n",
       "2015-01-04 01:00:00    944.0556  25.681818  0.018494  0.003898  19.893350   \n",
       "2015-01-04 02:00:00    928.7193  25.602319  0.018486  0.004625  19.863871   \n",
       "2015-01-04 03:00:00    909.5566  25.572656  0.018448  0.008533  20.362023   \n",
       "2015-01-04 04:00:00    894.6543  25.547144  0.018409  0.008694  20.651574   \n",
       "...                         ...        ...       ...       ...        ...   \n",
       "2020-03-08 19:00:00   1280.9166  26.195520  0.015070  0.013897  26.664170   \n",
       "2020-03-08 20:00:00   1283.4224  26.030908  0.015139  0.014648  26.250229   \n",
       "2020-03-08 21:00:00   1277.9559  25.977258  0.015112  0.013309  26.495268   \n",
       "2020-03-08 22:00:00   1231.6496  25.890039  0.015173  0.015747  27.659957   \n",
       "2020-03-08 23:00:00   1195.4730  25.742578  0.015295  0.020172  28.977717   \n",
       "\n",
       "                       T2M_san    T2M_dav  Holiday_ID  holiday  hour_of_day  \\\n",
       "datetime                                                                      \n",
       "2015-01-04 00:00:00  23.823877  22.730127           0        0            0   \n",
       "2015-01-04 01:00:00  23.627130  22.533380           0        0            1   \n",
       "2015-01-04 02:00:00  23.477319  22.360132           0        0            2   \n",
       "2015-01-04 03:00:00  23.369531  22.244531           0        0            3   \n",
       "2015-01-04 04:00:00  23.281519  22.148706           0        0            4   \n",
       "...                        ...        ...         ...      ...          ...   \n",
       "2020-03-08 19:00:00  26.258020  24.133020           0        0           19   \n",
       "2020-03-08 20:00:00  25.640283  23.609033           0        0           20   \n",
       "2020-03-08 21:00:00  25.289758  23.352258           0        0           21   \n",
       "2020-03-08 22:00:00  25.030664  23.218164           0        0           22   \n",
       "2020-03-08 23:00:00  24.820703  23.117578           0        0           23   \n",
       "\n",
       "                     month_of_year  day_of_week  working_day  \n",
       "datetime                                                      \n",
       "2015-01-04 00:00:00              1            7            0  \n",
       "2015-01-04 01:00:00              1            7            0  \n",
       "2015-01-04 02:00:00              1            7            0  \n",
       "2015-01-04 03:00:00              1            7            0  \n",
       "2015-01-04 04:00:00              1            7            0  \n",
       "...                            ...          ...          ...  \n",
       "2020-03-08 19:00:00              3            7            0  \n",
       "2020-03-08 20:00:00              3            7            0  \n",
       "2020-03-08 21:00:00              3            7            0  \n",
       "2020-03-08 22:00:00              3            7            0  \n",
       "2020-03-08 23:00:00              3            7            0  \n",
       "\n",
       "[45384 rows x 13 columns]"
      ],
      "text/html": [
       "<div>\n",
       "<style scoped>\n",
       "    .dataframe tbody tr th:only-of-type {\n",
       "        vertical-align: middle;\n",
       "    }\n",
       "\n",
       "    .dataframe tbody tr th {\n",
       "        vertical-align: top;\n",
       "    }\n",
       "\n",
       "    .dataframe thead th {\n",
       "        text-align: right;\n",
       "    }\n",
       "</style>\n",
       "<table border=\"1\" class=\"dataframe\">\n",
       "  <thead>\n",
       "    <tr style=\"text-align: right;\">\n",
       "      <th></th>\n",
       "      <th>nat_demand</th>\n",
       "      <th>T2M_toc</th>\n",
       "      <th>QV2M_toc</th>\n",
       "      <th>TQL_toc</th>\n",
       "      <th>W2M_toc</th>\n",
       "      <th>T2M_san</th>\n",
       "      <th>T2M_dav</th>\n",
       "      <th>Holiday_ID</th>\n",
       "      <th>holiday</th>\n",
       "      <th>hour_of_day</th>\n",
       "      <th>month_of_year</th>\n",
       "      <th>day_of_week</th>\n",
       "      <th>working_day</th>\n",
       "    </tr>\n",
       "    <tr>\n",
       "      <th>datetime</th>\n",
       "      <th></th>\n",
       "      <th></th>\n",
       "      <th></th>\n",
       "      <th></th>\n",
       "      <th></th>\n",
       "      <th></th>\n",
       "      <th></th>\n",
       "      <th></th>\n",
       "      <th></th>\n",
       "      <th></th>\n",
       "      <th></th>\n",
       "      <th></th>\n",
       "      <th></th>\n",
       "    </tr>\n",
       "  </thead>\n",
       "  <tbody>\n",
       "    <tr>\n",
       "      <th>2015-01-04 00:00:00</th>\n",
       "      <td>968.0526</td>\n",
       "      <td>25.769189</td>\n",
       "      <td>0.018555</td>\n",
       "      <td>0.003251</td>\n",
       "      <td>19.700352</td>\n",
       "      <td>23.823877</td>\n",
       "      <td>22.730127</td>\n",
       "      <td>0</td>\n",
       "      <td>0</td>\n",
       "      <td>0</td>\n",
       "      <td>1</td>\n",
       "      <td>7</td>\n",
       "      <td>0</td>\n",
       "    </tr>\n",
       "    <tr>\n",
       "      <th>2015-01-04 01:00:00</th>\n",
       "      <td>944.0556</td>\n",
       "      <td>25.681818</td>\n",
       "      <td>0.018494</td>\n",
       "      <td>0.003898</td>\n",
       "      <td>19.893350</td>\n",
       "      <td>23.627130</td>\n",
       "      <td>22.533380</td>\n",
       "      <td>0</td>\n",
       "      <td>0</td>\n",
       "      <td>1</td>\n",
       "      <td>1</td>\n",
       "      <td>7</td>\n",
       "      <td>0</td>\n",
       "    </tr>\n",
       "    <tr>\n",
       "      <th>2015-01-04 02:00:00</th>\n",
       "      <td>928.7193</td>\n",
       "      <td>25.602319</td>\n",
       "      <td>0.018486</td>\n",
       "      <td>0.004625</td>\n",
       "      <td>19.863871</td>\n",
       "      <td>23.477319</td>\n",
       "      <td>22.360132</td>\n",
       "      <td>0</td>\n",
       "      <td>0</td>\n",
       "      <td>2</td>\n",
       "      <td>1</td>\n",
       "      <td>7</td>\n",
       "      <td>0</td>\n",
       "    </tr>\n",
       "    <tr>\n",
       "      <th>2015-01-04 03:00:00</th>\n",
       "      <td>909.5566</td>\n",
       "      <td>25.572656</td>\n",
       "      <td>0.018448</td>\n",
       "      <td>0.008533</td>\n",
       "      <td>20.362023</td>\n",
       "      <td>23.369531</td>\n",
       "      <td>22.244531</td>\n",
       "      <td>0</td>\n",
       "      <td>0</td>\n",
       "      <td>3</td>\n",
       "      <td>1</td>\n",
       "      <td>7</td>\n",
       "      <td>0</td>\n",
       "    </tr>\n",
       "    <tr>\n",
       "      <th>2015-01-04 04:00:00</th>\n",
       "      <td>894.6543</td>\n",
       "      <td>25.547144</td>\n",
       "      <td>0.018409</td>\n",
       "      <td>0.008694</td>\n",
       "      <td>20.651574</td>\n",
       "      <td>23.281519</td>\n",
       "      <td>22.148706</td>\n",
       "      <td>0</td>\n",
       "      <td>0</td>\n",
       "      <td>4</td>\n",
       "      <td>1</td>\n",
       "      <td>7</td>\n",
       "      <td>0</td>\n",
       "    </tr>\n",
       "    <tr>\n",
       "      <th>...</th>\n",
       "      <td>...</td>\n",
       "      <td>...</td>\n",
       "      <td>...</td>\n",
       "      <td>...</td>\n",
       "      <td>...</td>\n",
       "      <td>...</td>\n",
       "      <td>...</td>\n",
       "      <td>...</td>\n",
       "      <td>...</td>\n",
       "      <td>...</td>\n",
       "      <td>...</td>\n",
       "      <td>...</td>\n",
       "      <td>...</td>\n",
       "    </tr>\n",
       "    <tr>\n",
       "      <th>2020-03-08 19:00:00</th>\n",
       "      <td>1280.9166</td>\n",
       "      <td>26.195520</td>\n",
       "      <td>0.015070</td>\n",
       "      <td>0.013897</td>\n",
       "      <td>26.664170</td>\n",
       "      <td>26.258020</td>\n",
       "      <td>24.133020</td>\n",
       "      <td>0</td>\n",
       "      <td>0</td>\n",
       "      <td>19</td>\n",
       "      <td>3</td>\n",
       "      <td>7</td>\n",
       "      <td>0</td>\n",
       "    </tr>\n",
       "    <tr>\n",
       "      <th>2020-03-08 20:00:00</th>\n",
       "      <td>1283.4224</td>\n",
       "      <td>26.030908</td>\n",
       "      <td>0.015139</td>\n",
       "      <td>0.014648</td>\n",
       "      <td>26.250229</td>\n",
       "      <td>25.640283</td>\n",
       "      <td>23.609033</td>\n",
       "      <td>0</td>\n",
       "      <td>0</td>\n",
       "      <td>20</td>\n",
       "      <td>3</td>\n",
       "      <td>7</td>\n",
       "      <td>0</td>\n",
       "    </tr>\n",
       "    <tr>\n",
       "      <th>2020-03-08 21:00:00</th>\n",
       "      <td>1277.9559</td>\n",
       "      <td>25.977258</td>\n",
       "      <td>0.015112</td>\n",
       "      <td>0.013309</td>\n",
       "      <td>26.495268</td>\n",
       "      <td>25.289758</td>\n",
       "      <td>23.352258</td>\n",
       "      <td>0</td>\n",
       "      <td>0</td>\n",
       "      <td>21</td>\n",
       "      <td>3</td>\n",
       "      <td>7</td>\n",
       "      <td>0</td>\n",
       "    </tr>\n",
       "    <tr>\n",
       "      <th>2020-03-08 22:00:00</th>\n",
       "      <td>1231.6496</td>\n",
       "      <td>25.890039</td>\n",
       "      <td>0.015173</td>\n",
       "      <td>0.015747</td>\n",
       "      <td>27.659957</td>\n",
       "      <td>25.030664</td>\n",
       "      <td>23.218164</td>\n",
       "      <td>0</td>\n",
       "      <td>0</td>\n",
       "      <td>22</td>\n",
       "      <td>3</td>\n",
       "      <td>7</td>\n",
       "      <td>0</td>\n",
       "    </tr>\n",
       "    <tr>\n",
       "      <th>2020-03-08 23:00:00</th>\n",
       "      <td>1195.4730</td>\n",
       "      <td>25.742578</td>\n",
       "      <td>0.015295</td>\n",
       "      <td>0.020172</td>\n",
       "      <td>28.977717</td>\n",
       "      <td>24.820703</td>\n",
       "      <td>23.117578</td>\n",
       "      <td>0</td>\n",
       "      <td>0</td>\n",
       "      <td>23</td>\n",
       "      <td>3</td>\n",
       "      <td>7</td>\n",
       "      <td>0</td>\n",
       "    </tr>\n",
       "  </tbody>\n",
       "</table>\n",
       "<p>45384 rows × 13 columns</p>\n",
       "</div>"
      ]
     },
     "execution_count": 10,
     "metadata": {},
     "output_type": "execute_result"
    }
   ],
   "execution_count": 10
  },
  {
   "cell_type": "code",
   "metadata": {
    "ExecuteTime": {
     "end_time": "2024-10-02T02:48:48.611806Z",
     "start_time": "2024-10-02T02:48:48.608026Z"
    }
   },
   "source": [
    "true = df.iloc[-24*7:,:]\n",
    "df_1 = df.iloc[:-24*7,:]"
   ],
   "outputs": [],
   "execution_count": 11
  },
  {
   "cell_type": "code",
   "metadata": {
    "ExecuteTime": {
     "end_time": "2024-10-02T02:48:48.731197Z",
     "start_time": "2024-10-02T02:48:48.719656Z"
    }
   },
   "source": [
    "df_load = df_1.values\n",
    "scaler_load = MinMaxScaler(feature_range=(0,1))\n",
    "df_load = scaler_load.fit_transform(df_load)"
   ],
   "outputs": [],
   "execution_count": 12
  },
  {
   "cell_type": "code",
   "metadata": {
    "ExecuteTime": {
     "end_time": "2024-10-02T02:48:48.854908Z",
     "start_time": "2024-10-02T02:48:48.848514Z"
    }
   },
   "source": [
    "scaler_load.transform(true)"
   ],
   "outputs": [
    {
     "data": {
      "text/plain": [
       "array([[0.63728609, 0.17532409, 0.34626958, ..., 0.18181818, 0.        ,\n",
       "        1.        ],\n",
       "       [0.5920826 , 0.16213596, 0.36713473, ..., 0.18181818, 0.        ,\n",
       "        1.        ],\n",
       "       [0.56624905, 0.15119256, 0.3851685 , ..., 0.18181818, 0.        ,\n",
       "        1.        ],\n",
       "       ...,\n",
       "       [0.7143624 , 0.25018811, 0.28751121, ..., 0.18181818, 1.        ,\n",
       "        0.        ],\n",
       "       [0.68662892, 0.24297163, 0.29324644, ..., 0.18181818, 1.        ,\n",
       "        0.        ],\n",
       "       [0.66496226, 0.23077078, 0.30472319, ..., 0.18181818, 1.        ,\n",
       "        0.        ]])"
      ]
     },
     "execution_count": 13,
     "metadata": {},
     "output_type": "execute_result"
    }
   ],
   "execution_count": 13
  },
  {
   "cell_type": "code",
   "metadata": {
    "ExecuteTime": {
     "end_time": "2024-10-02T02:48:48.941499Z",
     "start_time": "2024-10-02T02:48:48.935073Z"
    }
   },
   "source": [
    "df_1.iloc[:,:]  = df_load"
   ],
   "outputs": [],
   "execution_count": 14
  },
  {
   "cell_type": "code",
   "metadata": {
    "ExecuteTime": {
     "end_time": "2024-10-02T02:48:48.991460Z",
     "start_time": "2024-10-02T02:48:48.984347Z"
    }
   },
   "source": [
    "#周期点LSTM输入# time_steps 为取time_steps-1个周 当时间步数，week_steps为一周期多少数据\n",
    "def train_week(data,time_steps,week_steps ,n_in, n_out, dropnan=True):  \n",
    "    data =data.reshape(-1,1)\n",
    "    n_vars = 1 if type(data) is list else data.shape[1]\n",
    "    df = DataFrame(data)\n",
    "    cols, names = list(), list()\n",
    "    #数据序列(也将就是input) input sequence (t-n, ... t-1)\n",
    "    for i in range(n_in, 0, -1):\n",
    "        cols.append(df.shift(i))\n",
    "        names += [('var%d(t-%d)' % (j + 1, i)) for j in range(n_vars)]\n",
    "        #预测数据（input对应的输出值） forecast sequence (t, t+1, ... t+n)\n",
    "    for i in range(0, n_out):\n",
    "        cols.append(df.shift(-i))\n",
    "        if i == 0:\n",
    "            names += [('var%d(t)' % (j + 1)) for j in range(n_vars)]\n",
    "        else:\n",
    "            names += [('var%d(t+%d)' % (j + 1, i)) for j in range(n_vars)]\n",
    "    #拼接 put it all together\n",
    "    agg = concat(cols, axis=1)\n",
    "    agg.columns = names\n",
    "   # 删除值为NAN的行 drop rows with NaN values\n",
    "    if dropnan:\n",
    "        agg.dropna(inplace=True)\n",
    "    agg = agg.iloc[:, [week_steps*(time_steps-1), week_steps*(time_steps-2),week_steps*(time_steps-3), week_steps*(time_steps-4),week_steps*(time_steps-5)]] #取出每周的相同时刻\n",
    "    train_x = agg.iloc[:,1:].values\n",
    "    train_x = train_x.reshape((train_x.shape[0],train_x.shape[1],1))\n",
    "    train_y = agg.iloc[:,0].values\n",
    "    return train_x,train_y,agg"
   ],
   "outputs": [],
   "execution_count": 15
  },
  {
   "cell_type": "code",
   "metadata": {
    "ExecuteTime": {
     "end_time": "2024-10-02T02:48:49.023452Z",
     "start_time": "2024-10-02T02:48:49.018040Z"
    }
   },
   "source": [
    "#邻近点LSTM输入\n",
    "def train_split(timestep, nextstep,train,all_nextstep):   #timestep时间步长, nextstep一次预测多长时间,,all_nextstep总计需要预测时间\n",
    "    # load dataset\n",
    "#     scaled=scaled.values\n",
    "    train =train.reshape(-1,1)\n",
    "#     train = scaled[:, :]\n",
    "\n",
    "    train_X = []\n",
    "    train_y = []\n",
    "\n",
    "\n",
    "    # 训练集：\n",
    "    # 利用for循环，遍历整个测试集，提取测试集中连续360min的特征量作为输入特征test_X，第361-370min的发电量作为标签\n",
    "    for i in range(len(train)-timestep-nextstep+1):\n",
    "        train_X.append(train[i:(i+timestep), :])\n",
    "        btemp = train[i+timestep:i+timestep+nextstep, 0]\n",
    "        b = []\n",
    "        for j in range(len(btemp)):\n",
    "            b.append(btemp[j])\n",
    "        train_y.append(b)\n",
    "\n",
    "    # 将训练集由list格式变为array格式\n",
    "    train_X = np.array(train_X)\n",
    "    train_y = np.array(train_y)\n",
    "\n",
    "    # 使x_train符合RNN输入要求：[送入样本数， 循环核时间展开步数， 每个时间步输入特征个数]。\n",
    "    train_X = np.reshape(train_X, (train_X.shape[0],timestep, train_X.shape[2]))\n",
    "\n",
    "\n",
    "    return train_X, train_y"
   ],
   "outputs": [],
   "execution_count": 16
  },
  {
   "cell_type": "code",
   "metadata": {
    "ExecuteTime": {
     "end_time": "2024-10-02T02:48:49.086208Z",
     "start_time": "2024-10-02T02:48:49.080619Z"
    }
   },
   "source": [
    "#转成有监督数据\n",
    "def series_to_supervised(data, n_in=1, n_out=1, dropnan=True):\n",
    "    n_vars = 1 if type(data) is list else data.shape[1]\n",
    "    df = DataFrame(data)\n",
    "    cols, names = list(), list()\n",
    "    #数据序列(也将就是input) input sequence (t-n, ... t-1)\n",
    "    for i in range(n_in, 0, -1):\n",
    "        cols.append(df.shift(i))\n",
    "        names += [('var%d(t-%d)' % (j + 1, i)) for j in range(n_vars)]\n",
    "        #预测数据（input对应的输出值） forecast sequence (t, t+1, ... t+n)\n",
    "    for i in range(0, n_out):\n",
    "        cols.append(df.shift(-i))\n",
    "        if i == 0:\n",
    "            names += [('var%d(t)' % (j + 1)) for j in range(n_vars)]\n",
    "        else:\n",
    "            names += [('var%d(t+%d)' % (j + 1, i)) for j in range(n_vars)]\n",
    "    #拼接 put it all together\n",
    "    agg = concat(cols, axis=1)\n",
    "    agg.columns = names\n",
    "    if dropnan:\n",
    "        agg.dropna(inplace=True)\n",
    "    return agg"
   ],
   "outputs": [],
   "execution_count": 17
  },
  {
   "cell_type": "code",
   "metadata": {
    "ExecuteTime": {
     "end_time": "2024-10-02T02:48:49.235631Z",
     "start_time": "2024-10-02T02:48:49.118714Z"
    }
   },
   "source": [
    "# 用前8个预测1个\n",
    "df_point = series_to_supervised(df_1,dian,1)"
   ],
   "outputs": [],
   "execution_count": 18
  },
  {
   "cell_type": "code",
   "metadata": {
    "ExecuteTime": {
     "end_time": "2024-10-02T02:48:49.313131Z",
     "start_time": "2024-10-02T02:48:49.266158Z"
    }
   },
   "source": [
    "df_point = df_point.reset_index(drop=True)"
   ],
   "outputs": [],
   "execution_count": 19
  },
  {
   "cell_type": "code",
   "metadata": {
    "ExecuteTime": {
     "end_time": "2024-10-02T02:48:49.645653Z",
     "start_time": "2024-10-02T02:48:49.340923Z"
    }
   },
   "source": [
    "#取出8 负荷时间天气\n",
    "df_point_input = pd.DataFrame()\n",
    "for i in range (dian+1):\n",
    "    if i < dian:\n",
    "        df_point_input= pd.concat([df_point_input,df_point.iloc[:,df.shape[1]*i]],axis = 1)\n",
    "        df_point_input = pd.concat([df_point_input,df_point.iloc[:,-df.shape[1]+1:]],axis = 1)\n",
    "    else:\n",
    "        df_point_input= pd.concat([df_point_input,df_point.iloc[:,df.shape[1]*i:]],axis =1)"
   ],
   "outputs": [],
   "execution_count": 20
  },
  {
   "cell_type": "code",
   "metadata": {
    "ExecuteTime": {
     "end_time": "2024-10-02T02:48:58.617308Z",
     "start_time": "2024-10-02T02:48:49.682567Z"
    }
   },
   "source": [
    "#先往前挪四周的点\n",
    "df_week = series_to_supervised(df_1,zhou*7*24,1)"
   ],
   "outputs": [],
   "execution_count": 21
  },
  {
   "cell_type": "code",
   "metadata": {
    "ExecuteTime": {
     "end_time": "2024-10-02T02:49:06.662864Z",
     "start_time": "2024-10-02T02:48:58.757181Z"
    }
   },
   "source": [
    "df_week = df_week.reset_index(drop=True)"
   ],
   "outputs": [],
   "execution_count": 22
  },
  {
   "cell_type": "code",
   "metadata": {
    "ExecuteTime": {
     "end_time": "2024-10-02T02:49:06.873234Z",
     "start_time": "2024-10-02T02:49:06.782186Z"
    }
   },
   "source": [
    "#取出前4周相同时刻的 负荷时间天气\n",
    "df_week_input = pd.DataFrame()\n",
    "for i in range (zhou+1):\n",
    "    if i < zhou:\n",
    "        df_week_input = pd.concat([df_week_input,df_week.iloc[:,df.shape[1]*24*7*i]],axis = 1)\n",
    "        df_week_input = pd.concat([df_week_input,df_week.iloc[:,-df.shape[1]+1:]],axis = 1)\n",
    "    else:\n",
    "        df_week_input = pd.concat([df_week_input,df_week.iloc[:,df.shape[1]*24*7*i:]],axis =1)"
   ],
   "outputs": [],
   "execution_count": 23
  },
  {
   "cell_type": "code",
   "metadata": {
    "ExecuteTime": {
     "end_time": "2024-10-02T02:49:06.952746Z",
     "start_time": "2024-10-02T02:49:06.944431Z"
    }
   },
   "source": [
    "# 将两个lstm输入变为一至，往前挪的长度不一致，导致被消除的行数有所区别，这里统一长度\n",
    "df_point_input = df_point_input[(df_point_input.shape[0] - df_week_input.shape[0]):]"
   ],
   "outputs": [],
   "execution_count": 24
  },
  {
   "cell_type": "code",
   "metadata": {
    "scrolled": true,
    "ExecuteTime": {
     "end_time": "2024-10-02T02:49:07.032429Z",
     "start_time": "2024-10-02T02:49:07.014067Z"
    }
   },
   "source": [
    "# 构建前四周 相同点输入\n",
    "df_week_input_1 = df_week_input.iloc[:,:-df.shape[1]]\n",
    "df_week_input_1 = df_week_input_1.values.reshape(df_week_input_1.shape[0],zhou,df.shape[1])"
   ],
   "outputs": [],
   "execution_count": 25
  },
  {
   "cell_type": "code",
   "metadata": {
    "ExecuteTime": {
     "end_time": "2024-10-02T02:49:07.210483Z",
     "start_time": "2024-10-02T02:49:07.102036Z"
    }
   },
   "source": [
    "#构建邻近八点 输入\n",
    "df_point_input_1 = df_point_input.iloc[:,:-df.shape[1]]\n",
    "df_point_input_1 = df_point_input_1.values.reshape(df_point_input_1.shape[0],dian,df.shape[1])"
   ],
   "outputs": [],
   "execution_count": 26
  },
  {
   "cell_type": "code",
   "metadata": {
    "ExecuteTime": {
     "end_time": "2024-10-02T02:49:07.303209Z",
     "start_time": "2024-10-02T02:49:07.275749Z"
    }
   },
   "source": [
    "# 输出\n",
    "df_week_output_1 = df_week_input.iloc[:,-df.shape[1]:]\n",
    "df_point_output_1 = df_point_input.iloc[:,-df.shape[1]:]"
   ],
   "outputs": [],
   "execution_count": 27
  },
  {
   "cell_type": "code",
   "metadata": {
    "ExecuteTime": {
     "end_time": "2024-10-02T02:49:07.378359Z",
     "start_time": "2024-10-02T02:49:07.373880Z"
    }
   },
   "source": [
    "#预测总条数 \n",
    "pre_number = 7*24"
   ],
   "outputs": [],
   "execution_count": 28
  },
  {
   "cell_type": "code",
   "metadata": {
    "ExecuteTime": {
     "end_time": "2024-10-02T02:49:07.472103Z",
     "start_time": "2024-10-02T02:49:07.458461Z"
    }
   },
   "source": [
    "# 定义自注意力机制\n",
    "def attention_3d_block(inputs):\n",
    "    input_dim = int(inputs.shape[1])\n",
    "    x = Permute((2,1))(inputs)\n",
    "    x = Dense(input_dim,activation=\"softmax\",name='attention_1')(x)\n",
    "    attention_probs = Permute((2,1))(x)\n",
    "    multipy_layer = Multiply()([inputs,attention_probs])\n",
    "    return multipy_layer"
   ],
   "outputs": [],
   "execution_count": 29
  },
  {
   "cell_type": "code",
   "metadata": {
    "ExecuteTime": {
     "end_time": "2024-10-02T02:49:08.047569Z",
     "start_time": "2024-10-02T02:49:07.543817Z"
    }
   },
   "source": [
    "# input1 为临近点输入 临近点取的是步\n",
    "input1 = Input(shape=(df_point_input_1.shape[1], df_point_input_1.shape[2]))\n",
    "conv_out1_1 = Conv1D(filters=32, kernel_size=round(dian/2), activation='sigmoid')(input1) #24\n",
    "\n",
    "lstm_1_1 = GRU(32,activation='sigmoid',return_sequences=True,stateful=False)(conv_out1_1)\n",
    "lstm_1_1 = Dropout(0.1)(lstm_1_1)#0.1\n",
    "# z1 = Lambda(lambda k: K.permute_dimensions(k, (0, 2, 1)))(lstm1out_1)\n",
    "# conv_out1_1 = Conv1D(filters=24, kernel_size=dian, activation='relu')(lstm_1_1) #24\n",
    "lstm_1_2 = GRU(24,activation='sigmoid',return_sequences=False,stateful=False)(lstm_1_1)"
   ],
   "outputs": [],
   "execution_count": 30
  },
  {
   "cell_type": "code",
   "metadata": {
    "ExecuteTime": {
     "end_time": "2024-10-02T02:49:08.151747Z",
     "start_time": "2024-10-02T02:49:08.114305Z"
    }
   },
   "source": [
    "# input2 为临近周同时刻输入 取的是步\n",
    "input2 = Input(shape=(df_week_input_1.shape[1], df_week_input_1.shape[2]))\n",
    "conv_out2_1 = Conv1D(filters=32, kernel_size=round(zhou/2), activation='sigmoid')(input2) #12\n",
    "lstm_2_1 =GRU(32,activation='sigmoid',return_sequences=True,stateful=False)(conv_out2_1)\n",
    "lstm_2_1 = Dropout(0.1)(lstm_2_1) #0.1\n",
    "# z1 = Lambda(lambda k: K.permute_dimensions(k, (0, 2, 1)))(lstm1out_1)\n",
    "lstm_2_2 = GRU(24,activation='sigmoid',return_sequences=False,stateful=False)(lstm_2_1)"
   ],
   "outputs": [],
   "execution_count": 31
  },
  {
   "cell_type": "code",
   "metadata": {
    "ExecuteTime": {
     "end_time": "2024-10-02T02:49:08.229399Z",
     "start_time": "2024-10-02T02:49:08.220016Z"
    }
   },
   "source": [
    "# 合并input1 input2  为 lstm （2，32）\n",
    "lstm_1_2_rv = RepeatVector(1)(lstm_1_2)\n",
    "# lstm_2_2 = RepeatVector(1)(lstm_2_2)\n",
    "lstm_2_2_rv = RepeatVector(1)(lstm_2_2)\n",
    "lstm = Concatenate(axis=1)([lstm_1_2_rv,lstm_2_2_rv])"
   ],
   "outputs": [],
   "execution_count": 32
  },
  {
   "cell_type": "code",
   "metadata": {
    "ExecuteTime": {
     "end_time": "2024-10-02T02:49:08.318157Z",
     "start_time": "2024-10-02T02:49:08.306902Z"
    }
   },
   "source": [
    "lstm"
   ],
   "outputs": [
    {
     "data": {
      "text/plain": [
       "<KerasTensor shape=(None, 2, 24), dtype=float32, sparse=False, name=keras_tensor_12>"
      ]
     },
     "execution_count": 33,
     "metadata": {},
     "output_type": "execute_result"
    }
   ],
   "execution_count": 33
  },
  {
   "cell_type": "markdown",
   "metadata": {},
   "source": [
    "#自注意力机制\n",
    "attention_layer = attention_3d_block(lstm)"
   ]
  },
  {
   "cell_type": "code",
   "metadata": {
    "scrolled": true,
    "ExecuteTime": {
     "end_time": "2024-10-02T02:51:02.624821Z",
     "start_time": "2024-10-02T02:49:08.400860Z"
    }
   },
   "source": [
    "# 编译输出\n",
    "flatten = Flatten()(lstm)\n",
    "output = Dense(32)(flatten) #64\n",
    "# output1 = Dense(32)(output)\n",
    "output2 = Dense(1, activation=\"relu\")(output)\n",
    "model = Model(inputs=[input1,input2], outputs=output2)\n",
    "model.summary()\n",
    "model.compile(loss=tf.keras.losses.MeanSquaredError(), optimizer='adam') #tf.keras.losses.Huber()\n",
    "start_time = time.time()\n",
    "history = model.fit([df_point_input_1,df_week_input_1],df_week_output_1.iloc[:,0].values, epochs=120, batch_size=96*6,verbose=2)"
   ],
   "outputs": [
    {
     "data": {
      "text/plain": [
       "\u001B[1mModel: \"functional\"\u001B[0m\n"
      ],
      "text/html": [
       "<pre style=\"white-space:pre;overflow-x:auto;line-height:normal;font-family:Menlo,'DejaVu Sans Mono',consolas,'Courier New',monospace\"><span style=\"font-weight: bold\">Model: \"functional\"</span>\n",
       "</pre>\n"
      ]
     },
     "metadata": {},
     "output_type": "display_data"
    },
    {
     "data": {
      "text/plain": [
       "┏━━━━━━━━━━━━━━━━━━━━━┳━━━━━━━━━━━━━━━━━━━┳━━━━━━━━━━━━┳━━━━━━━━━━━━━━━━━━━┓\n",
       "┃\u001B[1m \u001B[0m\u001B[1mLayer (type)       \u001B[0m\u001B[1m \u001B[0m┃\u001B[1m \u001B[0m\u001B[1mOutput Shape     \u001B[0m\u001B[1m \u001B[0m┃\u001B[1m \u001B[0m\u001B[1m   Param #\u001B[0m\u001B[1m \u001B[0m┃\u001B[1m \u001B[0m\u001B[1mConnected to     \u001B[0m\u001B[1m \u001B[0m┃\n",
       "┡━━━━━━━━━━━━━━━━━━━━━╇━━━━━━━━━━━━━━━━━━━╇━━━━━━━━━━━━╇━━━━━━━━━━━━━━━━━━━┩\n",
       "│ input_layer         │ (\u001B[38;5;45mNone\u001B[0m, \u001B[38;5;34m10\u001B[0m, \u001B[38;5;34m13\u001B[0m)    │          \u001B[38;5;34m0\u001B[0m │ -                 │\n",
       "│ (\u001B[38;5;33mInputLayer\u001B[0m)        │                   │            │                   │\n",
       "├─────────────────────┼───────────────────┼────────────┼───────────────────┤\n",
       "│ input_layer_1       │ (\u001B[38;5;45mNone\u001B[0m, \u001B[38;5;34m4\u001B[0m, \u001B[38;5;34m13\u001B[0m)     │          \u001B[38;5;34m0\u001B[0m │ -                 │\n",
       "│ (\u001B[38;5;33mInputLayer\u001B[0m)        │                   │            │                   │\n",
       "├─────────────────────┼───────────────────┼────────────┼───────────────────┤\n",
       "│ conv1d (\u001B[38;5;33mConv1D\u001B[0m)     │ (\u001B[38;5;45mNone\u001B[0m, \u001B[38;5;34m6\u001B[0m, \u001B[38;5;34m32\u001B[0m)     │      \u001B[38;5;34m2,112\u001B[0m │ input_layer[\u001B[38;5;34m0\u001B[0m][\u001B[38;5;34m0\u001B[0m] │\n",
       "├─────────────────────┼───────────────────┼────────────┼───────────────────┤\n",
       "│ conv1d_1 (\u001B[38;5;33mConv1D\u001B[0m)   │ (\u001B[38;5;45mNone\u001B[0m, \u001B[38;5;34m3\u001B[0m, \u001B[38;5;34m32\u001B[0m)     │        \u001B[38;5;34m864\u001B[0m │ input_layer_1[\u001B[38;5;34m0\u001B[0m]… │\n",
       "├─────────────────────┼───────────────────┼────────────┼───────────────────┤\n",
       "│ gru (\u001B[38;5;33mGRU\u001B[0m)           │ (\u001B[38;5;45mNone\u001B[0m, \u001B[38;5;34m6\u001B[0m, \u001B[38;5;34m32\u001B[0m)     │      \u001B[38;5;34m6,336\u001B[0m │ conv1d[\u001B[38;5;34m0\u001B[0m][\u001B[38;5;34m0\u001B[0m]      │\n",
       "├─────────────────────┼───────────────────┼────────────┼───────────────────┤\n",
       "│ gru_2 (\u001B[38;5;33mGRU\u001B[0m)         │ (\u001B[38;5;45mNone\u001B[0m, \u001B[38;5;34m3\u001B[0m, \u001B[38;5;34m32\u001B[0m)     │      \u001B[38;5;34m6,336\u001B[0m │ conv1d_1[\u001B[38;5;34m0\u001B[0m][\u001B[38;5;34m0\u001B[0m]    │\n",
       "├─────────────────────┼───────────────────┼────────────┼───────────────────┤\n",
       "│ dropout (\u001B[38;5;33mDropout\u001B[0m)   │ (\u001B[38;5;45mNone\u001B[0m, \u001B[38;5;34m6\u001B[0m, \u001B[38;5;34m32\u001B[0m)     │          \u001B[38;5;34m0\u001B[0m │ gru[\u001B[38;5;34m0\u001B[0m][\u001B[38;5;34m0\u001B[0m]         │\n",
       "├─────────────────────┼───────────────────┼────────────┼───────────────────┤\n",
       "│ dropout_1 (\u001B[38;5;33mDropout\u001B[0m) │ (\u001B[38;5;45mNone\u001B[0m, \u001B[38;5;34m3\u001B[0m, \u001B[38;5;34m32\u001B[0m)     │          \u001B[38;5;34m0\u001B[0m │ gru_2[\u001B[38;5;34m0\u001B[0m][\u001B[38;5;34m0\u001B[0m]       │\n",
       "├─────────────────────┼───────────────────┼────────────┼───────────────────┤\n",
       "│ gru_1 (\u001B[38;5;33mGRU\u001B[0m)         │ (\u001B[38;5;45mNone\u001B[0m, \u001B[38;5;34m24\u001B[0m)        │      \u001B[38;5;34m4,176\u001B[0m │ dropout[\u001B[38;5;34m0\u001B[0m][\u001B[38;5;34m0\u001B[0m]     │\n",
       "├─────────────────────┼───────────────────┼────────────┼───────────────────┤\n",
       "│ gru_3 (\u001B[38;5;33mGRU\u001B[0m)         │ (\u001B[38;5;45mNone\u001B[0m, \u001B[38;5;34m24\u001B[0m)        │      \u001B[38;5;34m4,176\u001B[0m │ dropout_1[\u001B[38;5;34m0\u001B[0m][\u001B[38;5;34m0\u001B[0m]   │\n",
       "├─────────────────────┼───────────────────┼────────────┼───────────────────┤\n",
       "│ repeat_vector       │ (\u001B[38;5;45mNone\u001B[0m, \u001B[38;5;34m1\u001B[0m, \u001B[38;5;34m24\u001B[0m)     │          \u001B[38;5;34m0\u001B[0m │ gru_1[\u001B[38;5;34m0\u001B[0m][\u001B[38;5;34m0\u001B[0m]       │\n",
       "│ (\u001B[38;5;33mRepeatVector\u001B[0m)      │                   │            │                   │\n",
       "├─────────────────────┼───────────────────┼────────────┼───────────────────┤\n",
       "│ repeat_vector_1     │ (\u001B[38;5;45mNone\u001B[0m, \u001B[38;5;34m1\u001B[0m, \u001B[38;5;34m24\u001B[0m)     │          \u001B[38;5;34m0\u001B[0m │ gru_3[\u001B[38;5;34m0\u001B[0m][\u001B[38;5;34m0\u001B[0m]       │\n",
       "│ (\u001B[38;5;33mRepeatVector\u001B[0m)      │                   │            │                   │\n",
       "├─────────────────────┼───────────────────┼────────────┼───────────────────┤\n",
       "│ concatenate         │ (\u001B[38;5;45mNone\u001B[0m, \u001B[38;5;34m2\u001B[0m, \u001B[38;5;34m24\u001B[0m)     │          \u001B[38;5;34m0\u001B[0m │ repeat_vector[\u001B[38;5;34m0\u001B[0m]… │\n",
       "│ (\u001B[38;5;33mConcatenate\u001B[0m)       │                   │            │ repeat_vector_1[\u001B[38;5;34m…\u001B[0m │\n",
       "├─────────────────────┼───────────────────┼────────────┼───────────────────┤\n",
       "│ flatten (\u001B[38;5;33mFlatten\u001B[0m)   │ (\u001B[38;5;45mNone\u001B[0m, \u001B[38;5;34m48\u001B[0m)        │          \u001B[38;5;34m0\u001B[0m │ concatenate[\u001B[38;5;34m0\u001B[0m][\u001B[38;5;34m0\u001B[0m] │\n",
       "├─────────────────────┼───────────────────┼────────────┼───────────────────┤\n",
       "│ dense (\u001B[38;5;33mDense\u001B[0m)       │ (\u001B[38;5;45mNone\u001B[0m, \u001B[38;5;34m32\u001B[0m)        │      \u001B[38;5;34m1,568\u001B[0m │ flatten[\u001B[38;5;34m0\u001B[0m][\u001B[38;5;34m0\u001B[0m]     │\n",
       "├─────────────────────┼───────────────────┼────────────┼───────────────────┤\n",
       "│ dense_1 (\u001B[38;5;33mDense\u001B[0m)     │ (\u001B[38;5;45mNone\u001B[0m, \u001B[38;5;34m1\u001B[0m)         │         \u001B[38;5;34m33\u001B[0m │ dense[\u001B[38;5;34m0\u001B[0m][\u001B[38;5;34m0\u001B[0m]       │\n",
       "└─────────────────────┴───────────────────┴────────────┴───────────────────┘\n"
      ],
      "text/html": [
       "<pre style=\"white-space:pre;overflow-x:auto;line-height:normal;font-family:Menlo,'DejaVu Sans Mono',consolas,'Courier New',monospace\">┏━━━━━━━━━━━━━━━━━━━━━┳━━━━━━━━━━━━━━━━━━━┳━━━━━━━━━━━━┳━━━━━━━━━━━━━━━━━━━┓\n",
       "┃<span style=\"font-weight: bold\"> Layer (type)        </span>┃<span style=\"font-weight: bold\"> Output Shape      </span>┃<span style=\"font-weight: bold\">    Param # </span>┃<span style=\"font-weight: bold\"> Connected to      </span>┃\n",
       "┡━━━━━━━━━━━━━━━━━━━━━╇━━━━━━━━━━━━━━━━━━━╇━━━━━━━━━━━━╇━━━━━━━━━━━━━━━━━━━┩\n",
       "│ input_layer         │ (<span style=\"color: #00d7ff; text-decoration-color: #00d7ff\">None</span>, <span style=\"color: #00af00; text-decoration-color: #00af00\">10</span>, <span style=\"color: #00af00; text-decoration-color: #00af00\">13</span>)    │          <span style=\"color: #00af00; text-decoration-color: #00af00\">0</span> │ -                 │\n",
       "│ (<span style=\"color: #0087ff; text-decoration-color: #0087ff\">InputLayer</span>)        │                   │            │                   │\n",
       "├─────────────────────┼───────────────────┼────────────┼───────────────────┤\n",
       "│ input_layer_1       │ (<span style=\"color: #00d7ff; text-decoration-color: #00d7ff\">None</span>, <span style=\"color: #00af00; text-decoration-color: #00af00\">4</span>, <span style=\"color: #00af00; text-decoration-color: #00af00\">13</span>)     │          <span style=\"color: #00af00; text-decoration-color: #00af00\">0</span> │ -                 │\n",
       "│ (<span style=\"color: #0087ff; text-decoration-color: #0087ff\">InputLayer</span>)        │                   │            │                   │\n",
       "├─────────────────────┼───────────────────┼────────────┼───────────────────┤\n",
       "│ conv1d (<span style=\"color: #0087ff; text-decoration-color: #0087ff\">Conv1D</span>)     │ (<span style=\"color: #00d7ff; text-decoration-color: #00d7ff\">None</span>, <span style=\"color: #00af00; text-decoration-color: #00af00\">6</span>, <span style=\"color: #00af00; text-decoration-color: #00af00\">32</span>)     │      <span style=\"color: #00af00; text-decoration-color: #00af00\">2,112</span> │ input_layer[<span style=\"color: #00af00; text-decoration-color: #00af00\">0</span>][<span style=\"color: #00af00; text-decoration-color: #00af00\">0</span>] │\n",
       "├─────────────────────┼───────────────────┼────────────┼───────────────────┤\n",
       "│ conv1d_1 (<span style=\"color: #0087ff; text-decoration-color: #0087ff\">Conv1D</span>)   │ (<span style=\"color: #00d7ff; text-decoration-color: #00d7ff\">None</span>, <span style=\"color: #00af00; text-decoration-color: #00af00\">3</span>, <span style=\"color: #00af00; text-decoration-color: #00af00\">32</span>)     │        <span style=\"color: #00af00; text-decoration-color: #00af00\">864</span> │ input_layer_1[<span style=\"color: #00af00; text-decoration-color: #00af00\">0</span>]… │\n",
       "├─────────────────────┼───────────────────┼────────────┼───────────────────┤\n",
       "│ gru (<span style=\"color: #0087ff; text-decoration-color: #0087ff\">GRU</span>)           │ (<span style=\"color: #00d7ff; text-decoration-color: #00d7ff\">None</span>, <span style=\"color: #00af00; text-decoration-color: #00af00\">6</span>, <span style=\"color: #00af00; text-decoration-color: #00af00\">32</span>)     │      <span style=\"color: #00af00; text-decoration-color: #00af00\">6,336</span> │ conv1d[<span style=\"color: #00af00; text-decoration-color: #00af00\">0</span>][<span style=\"color: #00af00; text-decoration-color: #00af00\">0</span>]      │\n",
       "├─────────────────────┼───────────────────┼────────────┼───────────────────┤\n",
       "│ gru_2 (<span style=\"color: #0087ff; text-decoration-color: #0087ff\">GRU</span>)         │ (<span style=\"color: #00d7ff; text-decoration-color: #00d7ff\">None</span>, <span style=\"color: #00af00; text-decoration-color: #00af00\">3</span>, <span style=\"color: #00af00; text-decoration-color: #00af00\">32</span>)     │      <span style=\"color: #00af00; text-decoration-color: #00af00\">6,336</span> │ conv1d_1[<span style=\"color: #00af00; text-decoration-color: #00af00\">0</span>][<span style=\"color: #00af00; text-decoration-color: #00af00\">0</span>]    │\n",
       "├─────────────────────┼───────────────────┼────────────┼───────────────────┤\n",
       "│ dropout (<span style=\"color: #0087ff; text-decoration-color: #0087ff\">Dropout</span>)   │ (<span style=\"color: #00d7ff; text-decoration-color: #00d7ff\">None</span>, <span style=\"color: #00af00; text-decoration-color: #00af00\">6</span>, <span style=\"color: #00af00; text-decoration-color: #00af00\">32</span>)     │          <span style=\"color: #00af00; text-decoration-color: #00af00\">0</span> │ gru[<span style=\"color: #00af00; text-decoration-color: #00af00\">0</span>][<span style=\"color: #00af00; text-decoration-color: #00af00\">0</span>]         │\n",
       "├─────────────────────┼───────────────────┼────────────┼───────────────────┤\n",
       "│ dropout_1 (<span style=\"color: #0087ff; text-decoration-color: #0087ff\">Dropout</span>) │ (<span style=\"color: #00d7ff; text-decoration-color: #00d7ff\">None</span>, <span style=\"color: #00af00; text-decoration-color: #00af00\">3</span>, <span style=\"color: #00af00; text-decoration-color: #00af00\">32</span>)     │          <span style=\"color: #00af00; text-decoration-color: #00af00\">0</span> │ gru_2[<span style=\"color: #00af00; text-decoration-color: #00af00\">0</span>][<span style=\"color: #00af00; text-decoration-color: #00af00\">0</span>]       │\n",
       "├─────────────────────┼───────────────────┼────────────┼───────────────────┤\n",
       "│ gru_1 (<span style=\"color: #0087ff; text-decoration-color: #0087ff\">GRU</span>)         │ (<span style=\"color: #00d7ff; text-decoration-color: #00d7ff\">None</span>, <span style=\"color: #00af00; text-decoration-color: #00af00\">24</span>)        │      <span style=\"color: #00af00; text-decoration-color: #00af00\">4,176</span> │ dropout[<span style=\"color: #00af00; text-decoration-color: #00af00\">0</span>][<span style=\"color: #00af00; text-decoration-color: #00af00\">0</span>]     │\n",
       "├─────────────────────┼───────────────────┼────────────┼───────────────────┤\n",
       "│ gru_3 (<span style=\"color: #0087ff; text-decoration-color: #0087ff\">GRU</span>)         │ (<span style=\"color: #00d7ff; text-decoration-color: #00d7ff\">None</span>, <span style=\"color: #00af00; text-decoration-color: #00af00\">24</span>)        │      <span style=\"color: #00af00; text-decoration-color: #00af00\">4,176</span> │ dropout_1[<span style=\"color: #00af00; text-decoration-color: #00af00\">0</span>][<span style=\"color: #00af00; text-decoration-color: #00af00\">0</span>]   │\n",
       "├─────────────────────┼───────────────────┼────────────┼───────────────────┤\n",
       "│ repeat_vector       │ (<span style=\"color: #00d7ff; text-decoration-color: #00d7ff\">None</span>, <span style=\"color: #00af00; text-decoration-color: #00af00\">1</span>, <span style=\"color: #00af00; text-decoration-color: #00af00\">24</span>)     │          <span style=\"color: #00af00; text-decoration-color: #00af00\">0</span> │ gru_1[<span style=\"color: #00af00; text-decoration-color: #00af00\">0</span>][<span style=\"color: #00af00; text-decoration-color: #00af00\">0</span>]       │\n",
       "│ (<span style=\"color: #0087ff; text-decoration-color: #0087ff\">RepeatVector</span>)      │                   │            │                   │\n",
       "├─────────────────────┼───────────────────┼────────────┼───────────────────┤\n",
       "│ repeat_vector_1     │ (<span style=\"color: #00d7ff; text-decoration-color: #00d7ff\">None</span>, <span style=\"color: #00af00; text-decoration-color: #00af00\">1</span>, <span style=\"color: #00af00; text-decoration-color: #00af00\">24</span>)     │          <span style=\"color: #00af00; text-decoration-color: #00af00\">0</span> │ gru_3[<span style=\"color: #00af00; text-decoration-color: #00af00\">0</span>][<span style=\"color: #00af00; text-decoration-color: #00af00\">0</span>]       │\n",
       "│ (<span style=\"color: #0087ff; text-decoration-color: #0087ff\">RepeatVector</span>)      │                   │            │                   │\n",
       "├─────────────────────┼───────────────────┼────────────┼───────────────────┤\n",
       "│ concatenate         │ (<span style=\"color: #00d7ff; text-decoration-color: #00d7ff\">None</span>, <span style=\"color: #00af00; text-decoration-color: #00af00\">2</span>, <span style=\"color: #00af00; text-decoration-color: #00af00\">24</span>)     │          <span style=\"color: #00af00; text-decoration-color: #00af00\">0</span> │ repeat_vector[<span style=\"color: #00af00; text-decoration-color: #00af00\">0</span>]… │\n",
       "│ (<span style=\"color: #0087ff; text-decoration-color: #0087ff\">Concatenate</span>)       │                   │            │ repeat_vector_1[<span style=\"color: #00af00; text-decoration-color: #00af00\">…</span> │\n",
       "├─────────────────────┼───────────────────┼────────────┼───────────────────┤\n",
       "│ flatten (<span style=\"color: #0087ff; text-decoration-color: #0087ff\">Flatten</span>)   │ (<span style=\"color: #00d7ff; text-decoration-color: #00d7ff\">None</span>, <span style=\"color: #00af00; text-decoration-color: #00af00\">48</span>)        │          <span style=\"color: #00af00; text-decoration-color: #00af00\">0</span> │ concatenate[<span style=\"color: #00af00; text-decoration-color: #00af00\">0</span>][<span style=\"color: #00af00; text-decoration-color: #00af00\">0</span>] │\n",
       "├─────────────────────┼───────────────────┼────────────┼───────────────────┤\n",
       "│ dense (<span style=\"color: #0087ff; text-decoration-color: #0087ff\">Dense</span>)       │ (<span style=\"color: #00d7ff; text-decoration-color: #00d7ff\">None</span>, <span style=\"color: #00af00; text-decoration-color: #00af00\">32</span>)        │      <span style=\"color: #00af00; text-decoration-color: #00af00\">1,568</span> │ flatten[<span style=\"color: #00af00; text-decoration-color: #00af00\">0</span>][<span style=\"color: #00af00; text-decoration-color: #00af00\">0</span>]     │\n",
       "├─────────────────────┼───────────────────┼────────────┼───────────────────┤\n",
       "│ dense_1 (<span style=\"color: #0087ff; text-decoration-color: #0087ff\">Dense</span>)     │ (<span style=\"color: #00d7ff; text-decoration-color: #00d7ff\">None</span>, <span style=\"color: #00af00; text-decoration-color: #00af00\">1</span>)         │         <span style=\"color: #00af00; text-decoration-color: #00af00\">33</span> │ dense[<span style=\"color: #00af00; text-decoration-color: #00af00\">0</span>][<span style=\"color: #00af00; text-decoration-color: #00af00\">0</span>]       │\n",
       "└─────────────────────┴───────────────────┴────────────┴───────────────────┘\n",
       "</pre>\n"
      ]
     },
     "metadata": {},
     "output_type": "display_data"
    },
    {
     "data": {
      "text/plain": [
       "\u001B[1m Total params: \u001B[0m\u001B[38;5;34m25,601\u001B[0m (100.00 KB)\n"
      ],
      "text/html": [
       "<pre style=\"white-space:pre;overflow-x:auto;line-height:normal;font-family:Menlo,'DejaVu Sans Mono',consolas,'Courier New',monospace\"><span style=\"font-weight: bold\"> Total params: </span><span style=\"color: #00af00; text-decoration-color: #00af00\">25,601</span> (100.00 KB)\n",
       "</pre>\n"
      ]
     },
     "metadata": {},
     "output_type": "display_data"
    },
    {
     "data": {
      "text/plain": [
       "\u001B[1m Trainable params: \u001B[0m\u001B[38;5;34m25,601\u001B[0m (100.00 KB)\n"
      ],
      "text/html": [
       "<pre style=\"white-space:pre;overflow-x:auto;line-height:normal;font-family:Menlo,'DejaVu Sans Mono',consolas,'Courier New',monospace\"><span style=\"font-weight: bold\"> Trainable params: </span><span style=\"color: #00af00; text-decoration-color: #00af00\">25,601</span> (100.00 KB)\n",
       "</pre>\n"
      ]
     },
     "metadata": {},
     "output_type": "display_data"
    },
    {
     "data": {
      "text/plain": [
       "\u001B[1m Non-trainable params: \u001B[0m\u001B[38;5;34m0\u001B[0m (0.00 B)\n"
      ],
      "text/html": [
       "<pre style=\"white-space:pre;overflow-x:auto;line-height:normal;font-family:Menlo,'DejaVu Sans Mono',consolas,'Courier New',monospace\"><span style=\"font-weight: bold\"> Non-trainable params: </span><span style=\"color: #00af00; text-decoration-color: #00af00\">0</span> (0.00 B)\n",
       "</pre>\n"
      ]
     },
     "metadata": {},
     "output_type": "display_data"
    },
    {
     "name": "stdout",
     "output_type": "stream",
     "text": [
      "Epoch 1/120\n",
      "78/78 - 7s - 91ms/step - loss: 0.0179\n",
      "Epoch 2/120\n",
      "78/78 - 1s - 12ms/step - loss: 0.0117\n",
      "Epoch 3/120\n",
      "78/78 - 1s - 13ms/step - loss: 0.0079\n",
      "Epoch 4/120\n",
      "78/78 - 1s - 15ms/step - loss: 0.0056\n",
      "Epoch 5/120\n",
      "78/78 - 1s - 14ms/step - loss: 0.0052\n",
      "Epoch 6/120\n",
      "78/78 - 1s - 14ms/step - loss: 0.0049\n",
      "Epoch 7/120\n",
      "78/78 - 1s - 14ms/step - loss: 0.0045\n",
      "Epoch 8/120\n",
      "78/78 - 1s - 14ms/step - loss: 0.0042\n",
      "Epoch 9/120\n",
      "78/78 - 1s - 14ms/step - loss: 0.0039\n",
      "Epoch 10/120\n",
      "78/78 - 1s - 12ms/step - loss: 0.0037\n",
      "Epoch 11/120\n",
      "78/78 - 1s - 11ms/step - loss: 0.0035\n",
      "Epoch 12/120\n",
      "78/78 - 1s - 11ms/step - loss: 0.0033\n",
      "Epoch 13/120\n",
      "78/78 - 1s - 11ms/step - loss: 0.0031\n",
      "Epoch 14/120\n",
      "78/78 - 1s - 11ms/step - loss: 0.0030\n",
      "Epoch 15/120\n",
      "78/78 - 1s - 11ms/step - loss: 0.0028\n",
      "Epoch 16/120\n",
      "78/78 - 1s - 11ms/step - loss: 0.0026\n",
      "Epoch 17/120\n",
      "78/78 - 1s - 11ms/step - loss: 0.0025\n",
      "Epoch 18/120\n",
      "78/78 - 1s - 11ms/step - loss: 0.0022\n",
      "Epoch 19/120\n",
      "78/78 - 1s - 11ms/step - loss: 0.0020\n",
      "Epoch 20/120\n",
      "78/78 - 1s - 11ms/step - loss: 0.0019\n",
      "Epoch 21/120\n",
      "78/78 - 1s - 11ms/step - loss: 0.0018\n",
      "Epoch 22/120\n",
      "78/78 - 1s - 12ms/step - loss: 0.0017\n",
      "Epoch 23/120\n",
      "78/78 - 1s - 12ms/step - loss: 0.0017\n",
      "Epoch 24/120\n",
      "78/78 - 1s - 11ms/step - loss: 0.0017\n",
      "Epoch 25/120\n",
      "78/78 - 1s - 11ms/step - loss: 0.0017\n",
      "Epoch 26/120\n",
      "78/78 - 1s - 11ms/step - loss: 0.0016\n",
      "Epoch 27/120\n",
      "78/78 - 1s - 11ms/step - loss: 0.0016\n",
      "Epoch 28/120\n",
      "78/78 - 1s - 11ms/step - loss: 0.0015\n",
      "Epoch 29/120\n",
      "78/78 - 1s - 11ms/step - loss: 0.0015\n",
      "Epoch 30/120\n",
      "78/78 - 1s - 12ms/step - loss: 0.0016\n",
      "Epoch 31/120\n",
      "78/78 - 1s - 13ms/step - loss: 0.0016\n",
      "Epoch 32/120\n",
      "78/78 - 1s - 13ms/step - loss: 0.0015\n",
      "Epoch 33/120\n",
      "78/78 - 1s - 12ms/step - loss: 0.0015\n",
      "Epoch 34/120\n",
      "78/78 - 1s - 11ms/step - loss: 0.0015\n",
      "Epoch 35/120\n",
      "78/78 - 1s - 11ms/step - loss: 0.0015\n",
      "Epoch 36/120\n",
      "78/78 - 1s - 11ms/step - loss: 0.0015\n",
      "Epoch 37/120\n",
      "78/78 - 1s - 11ms/step - loss: 0.0015\n",
      "Epoch 38/120\n",
      "78/78 - 1s - 11ms/step - loss: 0.0014\n",
      "Epoch 39/120\n",
      "78/78 - 1s - 11ms/step - loss: 0.0014\n",
      "Epoch 40/120\n",
      "78/78 - 1s - 11ms/step - loss: 0.0014\n",
      "Epoch 41/120\n",
      "78/78 - 1s - 11ms/step - loss: 0.0014\n",
      "Epoch 42/120\n",
      "78/78 - 1s - 12ms/step - loss: 0.0014\n",
      "Epoch 43/120\n",
      "78/78 - 1s - 11ms/step - loss: 0.0014\n",
      "Epoch 44/120\n",
      "78/78 - 1s - 11ms/step - loss: 0.0014\n",
      "Epoch 45/120\n",
      "78/78 - 1s - 11ms/step - loss: 0.0014\n",
      "Epoch 46/120\n",
      "78/78 - 1s - 12ms/step - loss: 0.0014\n",
      "Epoch 47/120\n",
      "78/78 - 1s - 11ms/step - loss: 0.0013\n",
      "Epoch 48/120\n",
      "78/78 - 1s - 11ms/step - loss: 0.0014\n",
      "Epoch 49/120\n",
      "78/78 - 1s - 11ms/step - loss: 0.0014\n",
      "Epoch 50/120\n",
      "78/78 - 1s - 11ms/step - loss: 0.0013\n",
      "Epoch 51/120\n",
      "78/78 - 1s - 12ms/step - loss: 0.0013\n",
      "Epoch 52/120\n",
      "78/78 - 1s - 11ms/step - loss: 0.0013\n",
      "Epoch 53/120\n",
      "78/78 - 1s - 11ms/step - loss: 0.0013\n",
      "Epoch 54/120\n",
      "78/78 - 1s - 11ms/step - loss: 0.0013\n",
      "Epoch 55/120\n",
      "78/78 - 1s - 11ms/step - loss: 0.0013\n",
      "Epoch 56/120\n",
      "78/78 - 1s - 11ms/step - loss: 0.0013\n",
      "Epoch 57/120\n",
      "78/78 - 1s - 11ms/step - loss: 0.0013\n",
      "Epoch 58/120\n",
      "78/78 - 1s - 11ms/step - loss: 0.0013\n",
      "Epoch 59/120\n",
      "78/78 - 1s - 11ms/step - loss: 0.0013\n",
      "Epoch 60/120\n",
      "78/78 - 1s - 14ms/step - loss: 0.0013\n",
      "Epoch 61/120\n",
      "78/78 - 1s - 12ms/step - loss: 0.0013\n",
      "Epoch 62/120\n",
      "78/78 - 1s - 11ms/step - loss: 0.0013\n",
      "Epoch 63/120\n",
      "78/78 - 1s - 11ms/step - loss: 0.0012\n",
      "Epoch 64/120\n",
      "78/78 - 1s - 11ms/step - loss: 0.0013\n",
      "Epoch 65/120\n",
      "78/78 - 1s - 11ms/step - loss: 0.0012\n",
      "Epoch 66/120\n",
      "78/78 - 1s - 11ms/step - loss: 0.0012\n",
      "Epoch 67/120\n",
      "78/78 - 1s - 11ms/step - loss: 0.0012\n",
      "Epoch 68/120\n",
      "78/78 - 1s - 11ms/step - loss: 0.0012\n",
      "Epoch 69/120\n",
      "78/78 - 1s - 11ms/step - loss: 0.0012\n",
      "Epoch 70/120\n",
      "78/78 - 1s - 11ms/step - loss: 0.0012\n",
      "Epoch 71/120\n",
      "78/78 - 1s - 11ms/step - loss: 0.0012\n",
      "Epoch 72/120\n",
      "78/78 - 1s - 11ms/step - loss: 0.0012\n",
      "Epoch 73/120\n",
      "78/78 - 1s - 11ms/step - loss: 0.0012\n",
      "Epoch 74/120\n",
      "78/78 - 1s - 11ms/step - loss: 0.0012\n",
      "Epoch 75/120\n",
      "78/78 - 1s - 11ms/step - loss: 0.0012\n",
      "Epoch 76/120\n",
      "78/78 - 1s - 11ms/step - loss: 0.0011\n",
      "Epoch 77/120\n",
      "78/78 - 1s - 11ms/step - loss: 0.0012\n",
      "Epoch 78/120\n",
      "78/78 - 1s - 11ms/step - loss: 0.0012\n",
      "Epoch 79/120\n",
      "78/78 - 1s - 11ms/step - loss: 0.0011\n",
      "Epoch 80/120\n",
      "78/78 - 1s - 11ms/step - loss: 0.0011\n",
      "Epoch 81/120\n",
      "78/78 - 1s - 11ms/step - loss: 0.0011\n",
      "Epoch 82/120\n",
      "78/78 - 1s - 11ms/step - loss: 0.0011\n",
      "Epoch 83/120\n",
      "78/78 - 1s - 11ms/step - loss: 0.0011\n",
      "Epoch 84/120\n",
      "78/78 - 1s - 11ms/step - loss: 0.0011\n",
      "Epoch 85/120\n",
      "78/78 - 1s - 11ms/step - loss: 0.0011\n",
      "Epoch 86/120\n",
      "78/78 - 1s - 11ms/step - loss: 0.0011\n",
      "Epoch 87/120\n",
      "78/78 - 1s - 11ms/step - loss: 0.0011\n",
      "Epoch 88/120\n",
      "78/78 - 1s - 11ms/step - loss: 0.0011\n",
      "Epoch 89/120\n",
      "78/78 - 1s - 11ms/step - loss: 0.0011\n",
      "Epoch 90/120\n",
      "78/78 - 1s - 11ms/step - loss: 0.0011\n",
      "Epoch 91/120\n",
      "78/78 - 1s - 11ms/step - loss: 0.0011\n",
      "Epoch 92/120\n",
      "78/78 - 1s - 11ms/step - loss: 0.0011\n",
      "Epoch 93/120\n",
      "78/78 - 1s - 11ms/step - loss: 0.0010\n",
      "Epoch 94/120\n",
      "78/78 - 1s - 11ms/step - loss: 0.0010\n",
      "Epoch 95/120\n",
      "78/78 - 1s - 11ms/step - loss: 0.0010\n",
      "Epoch 96/120\n",
      "78/78 - 1s - 11ms/step - loss: 0.0011\n",
      "Epoch 97/120\n",
      "78/78 - 1s - 11ms/step - loss: 0.0010\n",
      "Epoch 98/120\n",
      "78/78 - 1s - 11ms/step - loss: 0.0010\n",
      "Epoch 99/120\n",
      "78/78 - 1s - 11ms/step - loss: 0.0010\n",
      "Epoch 100/120\n",
      "78/78 - 1s - 11ms/step - loss: 0.0010\n",
      "Epoch 101/120\n",
      "78/78 - 1s - 11ms/step - loss: 0.0010\n",
      "Epoch 102/120\n",
      "78/78 - 1s - 11ms/step - loss: 0.0010\n",
      "Epoch 103/120\n",
      "78/78 - 1s - 11ms/step - loss: 0.0010\n",
      "Epoch 104/120\n",
      "78/78 - 1s - 11ms/step - loss: 0.0010\n",
      "Epoch 105/120\n",
      "78/78 - 1s - 11ms/step - loss: 0.0010\n",
      "Epoch 106/120\n",
      "78/78 - 1s - 11ms/step - loss: 9.9987e-04\n",
      "Epoch 107/120\n",
      "78/78 - 1s - 11ms/step - loss: 0.0010\n",
      "Epoch 108/120\n",
      "78/78 - 1s - 12ms/step - loss: 9.9158e-04\n",
      "Epoch 109/120\n",
      "78/78 - 1s - 11ms/step - loss: 9.8478e-04\n",
      "Epoch 110/120\n",
      "78/78 - 1s - 11ms/step - loss: 9.9001e-04\n",
      "Epoch 111/120\n",
      "78/78 - 1s - 11ms/step - loss: 9.9492e-04\n",
      "Epoch 112/120\n",
      "78/78 - 1s - 11ms/step - loss: 9.8501e-04\n",
      "Epoch 113/120\n",
      "78/78 - 1s - 11ms/step - loss: 9.6610e-04\n",
      "Epoch 114/120\n",
      "78/78 - 1s - 11ms/step - loss: 9.6537e-04\n",
      "Epoch 115/120\n",
      "78/78 - 1s - 11ms/step - loss: 9.7383e-04\n",
      "Epoch 116/120\n",
      "78/78 - 1s - 11ms/step - loss: 9.6884e-04\n",
      "Epoch 117/120\n",
      "78/78 - 1s - 11ms/step - loss: 9.4474e-04\n",
      "Epoch 118/120\n",
      "78/78 - 1s - 11ms/step - loss: 9.5139e-04\n",
      "Epoch 119/120\n",
      "78/78 - 1s - 11ms/step - loss: 9.5262e-04\n",
      "Epoch 120/120\n",
      "78/78 - 1s - 11ms/step - loss: 9.5476e-04\n"
     ]
    }
   ],
   "execution_count": 34
  },
  {
   "cell_type": "code",
   "metadata": {
    "ExecuteTime": {
     "end_time": "2024-10-02T02:51:02.706491Z",
     "start_time": "2024-10-02T02:51:02.702973Z"
    }
   },
   "source": [
    "end_time = time.time()\n",
    "run_time = end_time-start_time#运行时间"
   ],
   "outputs": [],
   "execution_count": 35
  },
  {
   "cell_type": "code",
   "metadata": {
    "ExecuteTime": {
     "end_time": "2024-10-02T02:51:02.971059Z",
     "start_time": "2024-10-02T02:51:02.775689Z"
    }
   },
   "source": [
    "fig = plt.figure(figsize=(15,7))\n",
    "pyplot.plot(model.history.history['loss'], label='train')\n",
    "# pyplot.title('负荷 loss')\n",
    "pyplot.ylabel('loss')\n",
    "pyplot.xlabel('epoch')\n",
    "pyplot.legend()\n",
    "pyplot.show()"
   ],
   "outputs": [
    {
     "data": {
      "text/plain": [
       "<Figure size 1500x700 with 1 Axes>"
      ],
      "image/png": "[encoded data removed]"
     },
     "metadata": {},
     "output_type": "display_data"
    }
   ],
   "execution_count": 36
  },
  {
   "cell_type": "markdown",
   "metadata": {},
   "source": [
    "# 画图查看网络结构\n",
    "from IPython.display import SVG\n",
    "from keras.utils.vis_utils import model_to_dot\n",
    "from keras.utils import plot_model\n",
    "display(SVG(model_to_dot(model,show_shapes=True).create(prog='dot', format='svg')))\n",
    "plot_model(model,show_shapes=True,dpi=500,to_file=r'C:\\Users\\Administrator\\Desktop\\活\\接活论文\\模型图片\\模型.png')"
   ]
  },
  {
   "cell_type": "code",
   "metadata": {
    "ExecuteTime": {
     "end_time": "2024-10-02T02:51:03.043686Z",
     "start_time": "2024-10-02T02:51:03.036007Z"
    }
   },
   "source": [
    "#构建预测输入数据\n",
    "df_week_input_pre = df_week_input.iloc[-pre_number:,-zhou*df.shape[1]:]"
   ],
   "outputs": [],
   "execution_count": 37
  },
  {
   "cell_type": "code",
   "metadata": {
    "ExecuteTime": {
     "end_time": "2024-10-02T02:51:03.126187Z",
     "start_time": "2024-10-02T02:51:03.117564Z"
    }
   },
   "source": [
    "true_input = scaler_load.transform(true)\n",
    "true.iloc[:,:]  = true_input\n",
    "true = true.reset_index(drop = True)"
   ],
   "outputs": [],
   "execution_count": 38
  },
  {
   "cell_type": "code",
   "metadata": {
    "ExecuteTime": {
     "end_time": "2024-10-02T02:51:03.213611Z",
     "start_time": "2024-10-02T02:51:03.197773Z"
    }
   },
   "source": [
    "df_week_input_pre"
   ],
   "outputs": [
    {
     "data": {
      "text/plain": [
       "       var1(t-504)   var2(t)   var3(t)   var4(t)   var5(t)   var6(t)  \\\n",
       "44376     0.623703  0.123670  0.285492  0.000455  0.550730  0.205012   \n",
       "44377     0.599828  0.107515  0.286930  0.000697  0.546343  0.190441   \n",
       "44378     0.570353  0.095390  0.285863  0.005090  0.541469  0.175965   \n",
       "44379     0.559008  0.088019  0.284473  0.010059  0.537058  0.163252   \n",
       "44380     0.556030  0.078381  0.285931  0.007922  0.504422  0.151144   \n",
       "...            ...       ...       ...       ...       ...       ...   \n",
       "44539     0.709708  0.239023  0.316463  0.007820  0.618995  0.323810   \n",
       "44540     0.716401  0.222721  0.326961  0.015347  0.618076  0.289311   \n",
       "44541     0.698454  0.211619  0.328505  0.019738  0.617229  0.262521   \n",
       "44542     0.684622  0.200062  0.331156  0.021926  0.605429  0.236661   \n",
       "44543     0.649416  0.187765  0.336195  0.025593  0.592310  0.213576   \n",
       "\n",
       "        var7(t)   var8(t)  var9(t)  var10(t)  ...   var4(t)   var5(t)  \\\n",
       "44376  0.130100  0.227273        1  0.000000  ...  0.000455  0.550730   \n",
       "44377  0.118071  0.227273        1  0.043478  ...  0.000697  0.546343   \n",
       "44378  0.106716  0.227273        1  0.086957  ...  0.005090  0.541469   \n",
       "44379  0.098838  0.227273        1  0.130435  ...  0.010059  0.537058   \n",
       "44380  0.094511  0.227273        1  0.173913  ...  0.007922  0.504422   \n",
       "...         ...       ...      ...       ...  ...       ...       ...   \n",
       "44539  0.327268  0.000000        0  0.826087  ...  0.007820  0.618995   \n",
       "44540  0.274089  0.000000        0  0.869565  ...  0.015347  0.618076   \n",
       "44541  0.236797  0.000000        0  0.913043  ...  0.019738  0.617229   \n",
       "44542  0.208420  0.000000        0  0.956522  ...  0.021926  0.605429   \n",
       "44543  0.175040  0.000000        0  1.000000  ...  0.025593  0.592310   \n",
       "\n",
       "        var6(t)   var7(t)   var8(t)  var9(t)  var10(t)  var11(t)  var12(t)  \\\n",
       "44376  0.205012  0.130100  0.227273        1  0.000000  0.090909       0.0   \n",
       "44377  0.190441  0.118071  0.227273        1  0.043478  0.090909       0.0   \n",
       "44378  0.175965  0.106716  0.227273        1  0.086957  0.090909       0.0   \n",
       "44379  0.163252  0.098838  0.227273        1  0.130435  0.090909       0.0   \n",
       "44380  0.151144  0.094511  0.227273        1  0.173913  0.090909       0.0   \n",
       "...         ...       ...       ...      ...       ...       ...       ...   \n",
       "44539  0.323810  0.327268  0.000000        0  0.826087  0.181818       1.0   \n",
       "44540  0.289311  0.274089  0.000000        0  0.869565  0.181818       1.0   \n",
       "44541  0.262521  0.236797  0.000000        0  0.913043  0.181818       1.0   \n",
       "44542  0.236661  0.208420  0.000000        0  0.956522  0.181818       1.0   \n",
       "44543  0.213576  0.175040  0.000000        0  1.000000  0.181818       1.0   \n",
       "\n",
       "       var13(t)  \n",
       "44376         1  \n",
       "44377         1  \n",
       "44378         1  \n",
       "44379         1  \n",
       "44380         1  \n",
       "...         ...  \n",
       "44539         0  \n",
       "44540         0  \n",
       "44541         0  \n",
       "44542         0  \n",
       "44543         0  \n",
       "\n",
       "[168 rows x 52 columns]"
      ],
      "text/html": [
       "<div>\n",
       "<style scoped>\n",
       "    .dataframe tbody tr th:only-of-type {\n",
       "        vertical-align: middle;\n",
       "    }\n",
       "\n",
       "    .dataframe tbody tr th {\n",
       "        vertical-align: top;\n",
       "    }\n",
       "\n",
       "    .dataframe thead th {\n",
       "        text-align: right;\n",
       "    }\n",
       "</style>\n",
       "<table border=\"1\" class=\"dataframe\">\n",
       "  <thead>\n",
       "    <tr style=\"text-align: right;\">\n",
       "      <th></th>\n",
       "      <th>var1(t-504)</th>\n",
       "      <th>var2(t)</th>\n",
       "      <th>var3(t)</th>\n",
       "      <th>var4(t)</th>\n",
       "      <th>var5(t)</th>\n",
       "      <th>var6(t)</th>\n",
       "      <th>var7(t)</th>\n",
       "      <th>var8(t)</th>\n",
       "      <th>var9(t)</th>\n",
       "      <th>var10(t)</th>\n",
       "      <th>...</th>\n",
       "      <th>var4(t)</th>\n",
       "      <th>var5(t)</th>\n",
       "      <th>var6(t)</th>\n",
       "      <th>var7(t)</th>\n",
       "      <th>var8(t)</th>\n",
       "      <th>var9(t)</th>\n",
       "      <th>var10(t)</th>\n",
       "      <th>var11(t)</th>\n",
       "      <th>var12(t)</th>\n",
       "      <th>var13(t)</th>\n",
       "    </tr>\n",
       "  </thead>\n",
       "  <tbody>\n",
       "    <tr>\n",
       "      <th>44376</th>\n",
       "      <td>0.623703</td>\n",
       "      <td>0.123670</td>\n",
       "      <td>0.285492</td>\n",
       "      <td>0.000455</td>\n",
       "      <td>0.550730</td>\n",
       "      <td>0.205012</td>\n",
       "      <td>0.130100</td>\n",
       "      <td>0.227273</td>\n",
       "      <td>1</td>\n",
       "      <td>0.000000</td>\n",
       "      <td>...</td>\n",
       "      <td>0.000455</td>\n",
       "      <td>0.550730</td>\n",
       "      <td>0.205012</td>\n",
       "      <td>0.130100</td>\n",
       "      <td>0.227273</td>\n",
       "      <td>1</td>\n",
       "      <td>0.000000</td>\n",
       "      <td>0.090909</td>\n",
       "      <td>0.0</td>\n",
       "      <td>1</td>\n",
       "    </tr>\n",
       "    <tr>\n",
       "      <th>44377</th>\n",
       "      <td>0.599828</td>\n",
       "      <td>0.107515</td>\n",
       "      <td>0.286930</td>\n",
       "      <td>0.000697</td>\n",
       "      <td>0.546343</td>\n",
       "      <td>0.190441</td>\n",
       "      <td>0.118071</td>\n",
       "      <td>0.227273</td>\n",
       "      <td>1</td>\n",
       "      <td>0.043478</td>\n",
       "      <td>...</td>\n",
       "      <td>0.000697</td>\n",
       "      <td>0.546343</td>\n",
       "      <td>0.190441</td>\n",
       "      <td>0.118071</td>\n",
       "      <td>0.227273</td>\n",
       "      <td>1</td>\n",
       "      <td>0.043478</td>\n",
       "      <td>0.090909</td>\n",
       "      <td>0.0</td>\n",
       "      <td>1</td>\n",
       "    </tr>\n",
       "    <tr>\n",
       "      <th>44378</th>\n",
       "      <td>0.570353</td>\n",
       "      <td>0.095390</td>\n",
       "      <td>0.285863</td>\n",
       "      <td>0.005090</td>\n",
       "      <td>0.541469</td>\n",
       "      <td>0.175965</td>\n",
       "      <td>0.106716</td>\n",
       "      <td>0.227273</td>\n",
       "      <td>1</td>\n",
       "      <td>0.086957</td>\n",
       "      <td>...</td>\n",
       "      <td>0.005090</td>\n",
       "      <td>0.541469</td>\n",
       "      <td>0.175965</td>\n",
       "      <td>0.106716</td>\n",
       "      <td>0.227273</td>\n",
       "      <td>1</td>\n",
       "      <td>0.086957</td>\n",
       "      <td>0.090909</td>\n",
       "      <td>0.0</td>\n",
       "      <td>1</td>\n",
       "    </tr>\n",
       "    <tr>\n",
       "      <th>44379</th>\n",
       "      <td>0.559008</td>\n",
       "      <td>0.088019</td>\n",
       "      <td>0.284473</td>\n",
       "      <td>0.010059</td>\n",
       "      <td>0.537058</td>\n",
       "      <td>0.163252</td>\n",
       "      <td>0.098838</td>\n",
       "      <td>0.227273</td>\n",
       "      <td>1</td>\n",
       "      <td>0.130435</td>\n",
       "      <td>...</td>\n",
       "      <td>0.010059</td>\n",
       "      <td>0.537058</td>\n",
       "      <td>0.163252</td>\n",
       "      <td>0.098838</td>\n",
       "      <td>0.227273</td>\n",
       "      <td>1</td>\n",
       "      <td>0.130435</td>\n",
       "      <td>0.090909</td>\n",
       "      <td>0.0</td>\n",
       "      <td>1</td>\n",
       "    </tr>\n",
       "    <tr>\n",
       "      <th>44380</th>\n",
       "      <td>0.556030</td>\n",
       "      <td>0.078381</td>\n",
       "      <td>0.285931</td>\n",
       "      <td>0.007922</td>\n",
       "      <td>0.504422</td>\n",
       "      <td>0.151144</td>\n",
       "      <td>0.094511</td>\n",
       "      <td>0.227273</td>\n",
       "      <td>1</td>\n",
       "      <td>0.173913</td>\n",
       "      <td>...</td>\n",
       "      <td>0.007922</td>\n",
       "      <td>0.504422</td>\n",
       "      <td>0.151144</td>\n",
       "      <td>0.094511</td>\n",
       "      <td>0.227273</td>\n",
       "      <td>1</td>\n",
       "      <td>0.173913</td>\n",
       "      <td>0.090909</td>\n",
       "      <td>0.0</td>\n",
       "      <td>1</td>\n",
       "    </tr>\n",
       "    <tr>\n",
       "      <th>...</th>\n",
       "      <td>...</td>\n",
       "      <td>...</td>\n",
       "      <td>...</td>\n",
       "      <td>...</td>\n",
       "      <td>...</td>\n",
       "      <td>...</td>\n",
       "      <td>...</td>\n",
       "      <td>...</td>\n",
       "      <td>...</td>\n",
       "      <td>...</td>\n",
       "      <td>...</td>\n",
       "      <td>...</td>\n",
       "      <td>...</td>\n",
       "      <td>...</td>\n",
       "      <td>...</td>\n",
       "      <td>...</td>\n",
       "      <td>...</td>\n",
       "      <td>...</td>\n",
       "      <td>...</td>\n",
       "      <td>...</td>\n",
       "      <td>...</td>\n",
       "    </tr>\n",
       "    <tr>\n",
       "      <th>44539</th>\n",
       "      <td>0.709708</td>\n",
       "      <td>0.239023</td>\n",
       "      <td>0.316463</td>\n",
       "      <td>0.007820</td>\n",
       "      <td>0.618995</td>\n",
       "      <td>0.323810</td>\n",
       "      <td>0.327268</td>\n",
       "      <td>0.000000</td>\n",
       "      <td>0</td>\n",
       "      <td>0.826087</td>\n",
       "      <td>...</td>\n",
       "      <td>0.007820</td>\n",
       "      <td>0.618995</td>\n",
       "      <td>0.323810</td>\n",
       "      <td>0.327268</td>\n",
       "      <td>0.000000</td>\n",
       "      <td>0</td>\n",
       "      <td>0.826087</td>\n",
       "      <td>0.181818</td>\n",
       "      <td>1.0</td>\n",
       "      <td>0</td>\n",
       "    </tr>\n",
       "    <tr>\n",
       "      <th>44540</th>\n",
       "      <td>0.716401</td>\n",
       "      <td>0.222721</td>\n",
       "      <td>0.326961</td>\n",
       "      <td>0.015347</td>\n",
       "      <td>0.618076</td>\n",
       "      <td>0.289311</td>\n",
       "      <td>0.274089</td>\n",
       "      <td>0.000000</td>\n",
       "      <td>0</td>\n",
       "      <td>0.869565</td>\n",
       "      <td>...</td>\n",
       "      <td>0.015347</td>\n",
       "      <td>0.618076</td>\n",
       "      <td>0.289311</td>\n",
       "      <td>0.274089</td>\n",
       "      <td>0.000000</td>\n",
       "      <td>0</td>\n",
       "      <td>0.869565</td>\n",
       "      <td>0.181818</td>\n",
       "      <td>1.0</td>\n",
       "      <td>0</td>\n",
       "    </tr>\n",
       "    <tr>\n",
       "      <th>44541</th>\n",
       "      <td>0.698454</td>\n",
       "      <td>0.211619</td>\n",
       "      <td>0.328505</td>\n",
       "      <td>0.019738</td>\n",
       "      <td>0.617229</td>\n",
       "      <td>0.262521</td>\n",
       "      <td>0.236797</td>\n",
       "      <td>0.000000</td>\n",
       "      <td>0</td>\n",
       "      <td>0.913043</td>\n",
       "      <td>...</td>\n",
       "      <td>0.019738</td>\n",
       "      <td>0.617229</td>\n",
       "      <td>0.262521</td>\n",
       "      <td>0.236797</td>\n",
       "      <td>0.000000</td>\n",
       "      <td>0</td>\n",
       "      <td>0.913043</td>\n",
       "      <td>0.181818</td>\n",
       "      <td>1.0</td>\n",
       "      <td>0</td>\n",
       "    </tr>\n",
       "    <tr>\n",
       "      <th>44542</th>\n",
       "      <td>0.684622</td>\n",
       "      <td>0.200062</td>\n",
       "      <td>0.331156</td>\n",
       "      <td>0.021926</td>\n",
       "      <td>0.605429</td>\n",
       "      <td>0.236661</td>\n",
       "      <td>0.208420</td>\n",
       "      <td>0.000000</td>\n",
       "      <td>0</td>\n",
       "      <td>0.956522</td>\n",
       "      <td>...</td>\n",
       "      <td>0.021926</td>\n",
       "      <td>0.605429</td>\n",
       "      <td>0.236661</td>\n",
       "      <td>0.208420</td>\n",
       "      <td>0.000000</td>\n",
       "      <td>0</td>\n",
       "      <td>0.956522</td>\n",
       "      <td>0.181818</td>\n",
       "      <td>1.0</td>\n",
       "      <td>0</td>\n",
       "    </tr>\n",
       "    <tr>\n",
       "      <th>44543</th>\n",
       "      <td>0.649416</td>\n",
       "      <td>0.187765</td>\n",
       "      <td>0.336195</td>\n",
       "      <td>0.025593</td>\n",
       "      <td>0.592310</td>\n",
       "      <td>0.213576</td>\n",
       "      <td>0.175040</td>\n",
       "      <td>0.000000</td>\n",
       "      <td>0</td>\n",
       "      <td>1.000000</td>\n",
       "      <td>...</td>\n",
       "      <td>0.025593</td>\n",
       "      <td>0.592310</td>\n",
       "      <td>0.213576</td>\n",
       "      <td>0.175040</td>\n",
       "      <td>0.000000</td>\n",
       "      <td>0</td>\n",
       "      <td>1.000000</td>\n",
       "      <td>0.181818</td>\n",
       "      <td>1.0</td>\n",
       "      <td>0</td>\n",
       "    </tr>\n",
       "  </tbody>\n",
       "</table>\n",
       "<p>168 rows × 52 columns</p>\n",
       "</div>"
      ]
     },
     "execution_count": 39,
     "metadata": {},
     "output_type": "execute_result"
    }
   ],
   "execution_count": 39
  },
  {
   "cell_type": "code",
   "metadata": {
    "ExecuteTime": {
     "end_time": "2024-10-02T02:51:03.328946Z",
     "start_time": "2024-10-02T02:51:03.323874Z"
    }
   },
   "source": [
    "df.shape[1]"
   ],
   "outputs": [
    {
     "data": {
      "text/plain": [
       "13"
      ]
     },
     "execution_count": 40,
     "metadata": {},
     "output_type": "execute_result"
    }
   ],
   "execution_count": 40
  },
  {
   "cell_type": "code",
   "metadata": {
    "scrolled": true,
    "ExecuteTime": {
     "end_time": "2024-10-02T02:51:03.423714Z",
     "start_time": "2024-10-02T02:51:03.410725Z"
    }
   },
   "source": [
    "df_week_input_pre = df_week_input_pre.reset_index(drop = True)\n",
    "df_week_input_pre_1 = pd.DataFrame()\n",
    "for i in range (zhou+1):\n",
    "    if i < zhou:\n",
    "        df_week_input_pre_1 = pd.concat([df_week_input_pre_1,df_week_input_pre.iloc[:,df.shape[1]*i]],axis = 1)\n",
    "        df_week_input_pre_1 = pd.concat([df_week_input_pre_1,true.iloc[:,-df.shape[1]+1:]],axis = 1)\n",
    "df_week_input_pre_1 = df_week_input_pre_1.values.reshape(df_week_input_pre.shape[0],zhou,df.shape[1])"
   ],
   "outputs": [],
   "execution_count": 41
  },
  {
   "cell_type": "code",
   "metadata": {
    "ExecuteTime": {
     "end_time": "2024-10-02T02:51:03.577732Z",
     "start_time": "2024-10-02T02:51:03.569479Z"
    }
   },
   "source": [
    "#构建临近点预测输入\n",
    "df_point_input_pre = df_point_input.iloc[-dian:,-df.shape[1]:]\n",
    "df_point_input_pre =df_point_input_pre.reset_index(drop=True)"
   ],
   "outputs": [],
   "execution_count": 42
  },
  {
   "cell_type": "code",
   "metadata": {
    "ExecuteTime": {
     "end_time": "2024-10-02T02:51:03.591296Z",
     "start_time": "2024-10-02T02:51:03.585169Z"
    }
   },
   "source": [
    "true_wea_time = true.loc[true.index.repeat(dian)].reset_index(drop=True).iloc[:,1:]"
   ],
   "outputs": [],
   "execution_count": 43
  },
  {
   "cell_type": "code",
   "metadata": {
    "ExecuteTime": {
     "end_time": "2024-10-02T02:51:03.682129Z",
     "start_time": "2024-10-02T02:51:03.677794Z"
    }
   },
   "source": [
    "df_point_input_pre = df_point_input_pre.iloc[:,[0]]"
   ],
   "outputs": [],
   "execution_count": 44
  },
  {
   "cell_type": "code",
   "metadata": {
    "ExecuteTime": {
     "end_time": "2024-10-02T02:51:03.760500Z",
     "start_time": "2024-10-02T02:51:03.757467Z"
    }
   },
   "source": [
    "pred = true.copy()"
   ],
   "outputs": [],
   "execution_count": 45
  },
  {
   "cell_type": "code",
   "metadata": {
    "ExecuteTime": {
     "end_time": "2024-10-02T02:51:12.536468Z",
     "start_time": "2024-10-02T02:51:03.838958Z"
    }
   },
   "source": [
    "#predict\n",
    "#因为每次只能预测 1 个数据，但是我要预测24个数据，所以采用的就是循环预测的思路。每次预测的1个数据，添加到数据集中充当预测x，然后在预测新的1个y，再添加到预测x列表中，如此往复。最终预测出24个点。\n",
    "predict_xlist1 = []#添加预测x列表\n",
    "predict_x1 = []\n",
    "predict_x2 = []\n",
    "predict_y_inv = []#添加预测y列表\n",
    "predict_xlist1.extend(df_point_input_pre.iloc[:,0].values.tolist())\n",
    "for i in range(24*7):\n",
    "    predict_x1 = np.append(np.array(predict_xlist1[-dian:]).reshape(-1,1),true_wea_time.iloc[dian*i:dian*(i+1),:].values,axis = 1)\n",
    "    predict_x1 = predict_x1.reshape(1,dian,df.shape[1])\n",
    "    \n",
    "    predict_x2 = df_week_input_pre_1[i].reshape((1,zhou,df.shape[1]))\n",
    "    #预测新值\n",
    "    lstm_predict = model.predict([predict_x1,predict_x2])\n",
    "    #predict_list.append(train_predict)#新值y添加进列表，做x\n",
    "#滚动预测\n",
    "    predict_xlist1.extend(lstm_predict[0])#将新预测出来的predict_steps个数据，加入predict_xlist列表，用于下次预测\n",
    "\n",
    "# invert\n",
    "    predict_y_inv.extend(lstm_predict[0])#预测的结果y，每次预测的1个数据，添加进去，直到预测24个为止\n",
    "\n",
    "pred.iloc[:,0] = predict_y_inv\n",
    "predict_y = scaler_load.inverse_transform(pred)"
   ],
   "outputs": [
    {
     "name": "stdout",
     "output_type": "stream",
     "text": [
      "\u001B[1m1/1\u001B[0m \u001B[32m━━━━━━━━━━━━━━━━━━━━\u001B[0m\u001B[37m\u001B[0m \u001B[1m1s\u001B[0m 941ms/step\n",
      "\u001B[1m1/1\u001B[0m \u001B[32m━━━━━━━━━━━━━━━━━━━━\u001B[0m\u001B[37m\u001B[0m \u001B[1m0s\u001B[0m 25ms/step\n",
      "\u001B[1m1/1\u001B[0m \u001B[32m━━━━━━━━━━━━━━━━━━━━\u001B[0m\u001B[37m\u001B[0m \u001B[1m0s\u001B[0m 29ms/step\n",
      "\u001B[1m1/1\u001B[0m \u001B[32m━━━━━━━━━━━━━━━━━━━━\u001B[0m\u001B[37m\u001B[0m \u001B[1m0s\u001B[0m 19ms/step\n",
      "\u001B[1m1/1\u001B[0m \u001B[32m━━━━━━━━━━━━━━━━━━━━\u001B[0m\u001B[37m\u001B[0m \u001B[1m0s\u001B[0m 17ms/step\n",
      "\u001B[1m1/1\u001B[0m \u001B[32m━━━━━━━━━━━━━━━━━━━━\u001B[0m\u001B[37m\u001B[0m \u001B[1m0s\u001B[0m 19ms/step\n",
      "\u001B[1m1/1\u001B[0m \u001B[32m━━━━━━━━━━━━━━━━━━━━\u001B[0m\u001B[37m\u001B[0m \u001B[1m0s\u001B[0m 18ms/step\n",
      "\u001B[1m1/1\u001B[0m \u001B[32m━━━━━━━━━━━━━━━━━━━━\u001B[0m\u001B[37m\u001B[0m \u001B[1m0s\u001B[0m 16ms/step\n",
      "\u001B[1m1/1\u001B[0m \u001B[32m━━━━━━━━━━━━━━━━━━━━\u001B[0m\u001B[37m\u001B[0m \u001B[1m0s\u001B[0m 14ms/step\n",
      "\u001B[1m1/1\u001B[0m \u001B[32m━━━━━━━━━━━━━━━━━━━━\u001B[0m\u001B[37m\u001B[0m \u001B[1m0s\u001B[0m 16ms/step\n",
      "\u001B[1m1/1\u001B[0m \u001B[32m━━━━━━━━━━━━━━━━━━━━\u001B[0m\u001B[37m\u001B[0m \u001B[1m0s\u001B[0m 16ms/step\n",
      "\u001B[1m1/1\u001B[0m \u001B[32m━━━━━━━━━━━━━━━━━━━━\u001B[0m\u001B[37m\u001B[0m \u001B[1m0s\u001B[0m 15ms/step\n",
      "\u001B[1m1/1\u001B[0m \u001B[32m━━━━━━━━━━━━━━━━━━━━\u001B[0m\u001B[37m\u001B[0m \u001B[1m0s\u001B[0m 15ms/step\n",
      "\u001B[1m1/1\u001B[0m \u001B[32m━━━━━━━━━━━━━━━━━━━━\u001B[0m\u001B[37m\u001B[0m \u001B[1m0s\u001B[0m 17ms/step\n",
      "\u001B[1m1/1\u001B[0m \u001B[32m━━━━━━━━━━━━━━━━━━━━\u001B[0m\u001B[37m\u001B[0m \u001B[1m0s\u001B[0m 16ms/step\n",
      "\u001B[1m1/1\u001B[0m \u001B[32m━━━━━━━━━━━━━━━━━━━━\u001B[0m\u001B[37m\u001B[0m \u001B[1m0s\u001B[0m 17ms/step\n",
      "\u001B[1m1/1\u001B[0m \u001B[32m━━━━━━━━━━━━━━━━━━━━\u001B[0m\u001B[37m\u001B[0m \u001B[1m0s\u001B[0m 18ms/step\n",
      "\u001B[1m1/1\u001B[0m \u001B[32m━━━━━━━━━━━━━━━━━━━━\u001B[0m\u001B[37m\u001B[0m \u001B[1m0s\u001B[0m 17ms/step\n",
      "\u001B[1m1/1\u001B[0m \u001B[32m━━━━━━━━━━━━━━━━━━━━\u001B[0m\u001B[37m\u001B[0m \u001B[1m0s\u001B[0m 15ms/step\n",
      "\u001B[1m1/1\u001B[0m \u001B[32m━━━━━━━━━━━━━━━━━━━━\u001B[0m\u001B[37m\u001B[0m \u001B[1m0s\u001B[0m 17ms/step\n",
      "\u001B[1m1/1\u001B[0m \u001B[32m━━━━━━━━━━━━━━━━━━━━\u001B[0m\u001B[37m\u001B[0m \u001B[1m0s\u001B[0m 16ms/step\n",
      "\u001B[1m1/1\u001B[0m \u001B[32m━━━━━━━━━━━━━━━━━━━━\u001B[0m\u001B[37m\u001B[0m \u001B[1m0s\u001B[0m 16ms/step\n",
      "\u001B[1m1/1\u001B[0m \u001B[32m━━━━━━━━━━━━━━━━━━━━\u001B[0m\u001B[37m\u001B[0m \u001B[1m0s\u001B[0m 16ms/step\n",
      "\u001B[1m1/1\u001B[0m \u001B[32m━━━━━━━━━━━━━━━━━━━━\u001B[0m\u001B[37m\u001B[0m \u001B[1m0s\u001B[0m 17ms/step\n",
      "\u001B[1m1/1\u001B[0m \u001B[32m━━━━━━━━━━━━━━━━━━━━\u001B[0m\u001B[37m\u001B[0m \u001B[1m0s\u001B[0m 16ms/step\n",
      "\u001B[1m1/1\u001B[0m \u001B[32m━━━━━━━━━━━━━━━━━━━━\u001B[0m\u001B[37m\u001B[0m \u001B[1m0s\u001B[0m 16ms/step\n",
      "\u001B[1m1/1\u001B[0m \u001B[32m━━━━━━━━━━━━━━━━━━━━\u001B[0m\u001B[37m\u001B[0m \u001B[1m0s\u001B[0m 16ms/step\n",
      "\u001B[1m1/1\u001B[0m \u001B[32m━━━━━━━━━━━━━━━━━━━━\u001B[0m\u001B[37m\u001B[0m \u001B[1m0s\u001B[0m 16ms/step\n",
      "\u001B[1m1/1\u001B[0m \u001B[32m━━━━━━━━━━━━━━━━━━━━\u001B[0m\u001B[37m\u001B[0m \u001B[1m0s\u001B[0m 18ms/step\n",
      "\u001B[1m1/1\u001B[0m \u001B[32m━━━━━━━━━━━━━━━━━━━━\u001B[0m\u001B[37m\u001B[0m \u001B[1m0s\u001B[0m 16ms/step\n",
      "\u001B[1m1/1\u001B[0m \u001B[32m━━━━━━━━━━━━━━━━━━━━\u001B[0m\u001B[37m\u001B[0m \u001B[1m0s\u001B[0m 15ms/step\n",
      "\u001B[1m1/1\u001B[0m \u001B[32m━━━━━━━━━━━━━━━━━━━━\u001B[0m\u001B[37m\u001B[0m \u001B[1m0s\u001B[0m 16ms/step\n",
      "\u001B[1m1/1\u001B[0m \u001B[32m━━━━━━━━━━━━━━━━━━━━\u001B[0m\u001B[37m\u001B[0m \u001B[1m0s\u001B[0m 15ms/step\n",
      "\u001B[1m1/1\u001B[0m \u001B[32m━━━━━━━━━━━━━━━━━━━━\u001B[0m\u001B[37m\u001B[0m \u001B[1m0s\u001B[0m 15ms/step\n",
      "\u001B[1m1/1\u001B[0m \u001B[32m━━━━━━━━━━━━━━━━━━━━\u001B[0m\u001B[37m\u001B[0m \u001B[1m0s\u001B[0m 16ms/step\n",
      "\u001B[1m1/1\u001B[0m \u001B[32m━━━━━━━━━━━━━━━━━━━━\u001B[0m\u001B[37m\u001B[0m \u001B[1m0s\u001B[0m 16ms/step\n",
      "\u001B[1m1/1\u001B[0m \u001B[32m━━━━━━━━━━━━━━━━━━━━\u001B[0m\u001B[37m\u001B[0m \u001B[1m0s\u001B[0m 16ms/step\n",
      "\u001B[1m1/1\u001B[0m \u001B[32m━━━━━━━━━━━━━━━━━━━━\u001B[0m\u001B[37m\u001B[0m \u001B[1m0s\u001B[0m 17ms/step\n",
      "\u001B[1m1/1\u001B[0m \u001B[32m━━━━━━━━━━━━━━━━━━━━\u001B[0m\u001B[37m\u001B[0m \u001B[1m0s\u001B[0m 15ms/step\n",
      "\u001B[1m1/1\u001B[0m \u001B[32m━━━━━━━━━━━━━━━━━━━━\u001B[0m\u001B[37m\u001B[0m \u001B[1m0s\u001B[0m 17ms/step\n",
      "\u001B[1m1/1\u001B[0m \u001B[32m━━━━━━━━━━━━━━━━━━━━\u001B[0m\u001B[37m\u001B[0m \u001B[1m0s\u001B[0m 15ms/step\n",
      "\u001B[1m1/1\u001B[0m \u001B[32m━━━━━━━━━━━━━━━━━━━━\u001B[0m\u001B[37m\u001B[0m \u001B[1m0s\u001B[0m 16ms/step\n",
      "\u001B[1m1/1\u001B[0m \u001B[32m━━━━━━━━━━━━━━━━━━━━\u001B[0m\u001B[37m\u001B[0m \u001B[1m0s\u001B[0m 16ms/step\n",
      "\u001B[1m1/1\u001B[0m \u001B[32m━━━━━━━━━━━━━━━━━━━━\u001B[0m\u001B[37m\u001B[0m \u001B[1m0s\u001B[0m 17ms/step\n",
      "\u001B[1m1/1\u001B[0m \u001B[32m━━━━━━━━━━━━━━━━━━━━\u001B[0m\u001B[37m\u001B[0m \u001B[1m0s\u001B[0m 17ms/step\n",
      "\u001B[1m1/1\u001B[0m \u001B[32m━━━━━━━━━━━━━━━━━━━━\u001B[0m\u001B[37m\u001B[0m \u001B[1m0s\u001B[0m 18ms/step\n",
      "\u001B[1m1/1\u001B[0m \u001B[32m━━━━━━━━━━━━━━━━━━━━\u001B[0m\u001B[37m\u001B[0m \u001B[1m0s\u001B[0m 16ms/step\n",
      "\u001B[1m1/1\u001B[0m \u001B[32m━━━━━━━━━━━━━━━━━━━━\u001B[0m\u001B[37m\u001B[0m \u001B[1m0s\u001B[0m 16ms/step\n",
      "\u001B[1m1/1\u001B[0m \u001B[32m━━━━━━━━━━━━━━━━━━━━\u001B[0m\u001B[37m\u001B[0m \u001B[1m0s\u001B[0m 16ms/step\n",
      "\u001B[1m1/1\u001B[0m \u001B[32m━━━━━━━━━━━━━━━━━━━━\u001B[0m\u001B[37m\u001B[0m \u001B[1m0s\u001B[0m 16ms/step\n",
      "\u001B[1m1/1\u001B[0m \u001B[32m━━━━━━━━━━━━━━━━━━━━\u001B[0m\u001B[37m\u001B[0m \u001B[1m0s\u001B[0m 17ms/step\n",
      "\u001B[1m1/1\u001B[0m \u001B[32m━━━━━━━━━━━━━━━━━━━━\u001B[0m\u001B[37m\u001B[0m \u001B[1m0s\u001B[0m 17ms/step\n",
      "\u001B[1m1/1\u001B[0m \u001B[32m━━━━━━━━━━━━━━━━━━━━\u001B[0m\u001B[37m\u001B[0m \u001B[1m0s\u001B[0m 15ms/step\n",
      "\u001B[1m1/1\u001B[0m \u001B[32m━━━━━━━━━━━━━━━━━━━━\u001B[0m\u001B[37m\u001B[0m \u001B[1m0s\u001B[0m 16ms/step\n",
      "\u001B[1m1/1\u001B[0m \u001B[32m━━━━━━━━━━━━━━━━━━━━\u001B[0m\u001B[37m\u001B[0m \u001B[1m0s\u001B[0m 16ms/step\n",
      "\u001B[1m1/1\u001B[0m \u001B[32m━━━━━━━━━━━━━━━━━━━━\u001B[0m\u001B[37m\u001B[0m \u001B[1m0s\u001B[0m 15ms/step\n",
      "\u001B[1m1/1\u001B[0m \u001B[32m━━━━━━━━━━━━━━━━━━━━\u001B[0m\u001B[37m\u001B[0m \u001B[1m0s\u001B[0m 16ms/step\n",
      "\u001B[1m1/1\u001B[0m \u001B[32m━━━━━━━━━━━━━━━━━━━━\u001B[0m\u001B[37m\u001B[0m \u001B[1m0s\u001B[0m 17ms/step\n",
      "\u001B[1m1/1\u001B[0m \u001B[32m━━━━━━━━━━━━━━━━━━━━\u001B[0m\u001B[37m\u001B[0m \u001B[1m0s\u001B[0m 17ms/step\n",
      "\u001B[1m1/1\u001B[0m \u001B[32m━━━━━━━━━━━━━━━━━━━━\u001B[0m\u001B[37m\u001B[0m \u001B[1m0s\u001B[0m 19ms/step\n",
      "\u001B[1m1/1\u001B[0m \u001B[32m━━━━━━━━━━━━━━━━━━━━\u001B[0m\u001B[37m\u001B[0m \u001B[1m0s\u001B[0m 15ms/step\n",
      "\u001B[1m1/1\u001B[0m \u001B[32m━━━━━━━━━━━━━━━━━━━━\u001B[0m\u001B[37m\u001B[0m \u001B[1m0s\u001B[0m 15ms/step\n",
      "\u001B[1m1/1\u001B[0m \u001B[32m━━━━━━━━━━━━━━━━━━━━\u001B[0m\u001B[37m\u001B[0m \u001B[1m0s\u001B[0m 17ms/step\n",
      "\u001B[1m1/1\u001B[0m \u001B[32m━━━━━━━━━━━━━━━━━━━━\u001B[0m\u001B[37m\u001B[0m \u001B[1m0s\u001B[0m 17ms/step\n",
      "\u001B[1m1/1\u001B[0m \u001B[32m━━━━━━━━━━━━━━━━━━━━\u001B[0m\u001B[37m\u001B[0m \u001B[1m0s\u001B[0m 16ms/step\n",
      "\u001B[1m1/1\u001B[0m \u001B[32m━━━━━━━━━━━━━━━━━━━━\u001B[0m\u001B[37m\u001B[0m \u001B[1m0s\u001B[0m 17ms/step\n",
      "\u001B[1m1/1\u001B[0m \u001B[32m━━━━━━━━━━━━━━━━━━━━\u001B[0m\u001B[37m\u001B[0m \u001B[1m0s\u001B[0m 17ms/step\n",
      "\u001B[1m1/1\u001B[0m \u001B[32m━━━━━━━━━━━━━━━━━━━━\u001B[0m\u001B[37m\u001B[0m \u001B[1m0s\u001B[0m 16ms/step\n",
      "\u001B[1m1/1\u001B[0m \u001B[32m━━━━━━━━━━━━━━━━━━━━\u001B[0m\u001B[37m\u001B[0m \u001B[1m0s\u001B[0m 16ms/step\n",
      "\u001B[1m1/1\u001B[0m \u001B[32m━━━━━━━━━━━━━━━━━━━━\u001B[0m\u001B[37m\u001B[0m \u001B[1m0s\u001B[0m 17ms/step\n",
      "\u001B[1m1/1\u001B[0m \u001B[32m━━━━━━━━━━━━━━━━━━━━\u001B[0m\u001B[37m\u001B[0m \u001B[1m0s\u001B[0m 16ms/step\n",
      "\u001B[1m1/1\u001B[0m \u001B[32m━━━━━━━━━━━━━━━━━━━━\u001B[0m\u001B[37m\u001B[0m \u001B[1m0s\u001B[0m 15ms/step\n",
      "\u001B[1m1/1\u001B[0m \u001B[32m━━━━━━━━━━━━━━━━━━━━\u001B[0m\u001B[37m\u001B[0m \u001B[1m0s\u001B[0m 16ms/step\n",
      "\u001B[1m1/1\u001B[0m \u001B[32m━━━━━━━━━━━━━━━━━━━━\u001B[0m\u001B[37m\u001B[0m \u001B[1m0s\u001B[0m 18ms/step\n",
      "\u001B[1m1/1\u001B[0m \u001B[32m━━━━━━━━━━━━━━━━━━━━\u001B[0m\u001B[37m\u001B[0m \u001B[1m0s\u001B[0m 17ms/step\n",
      "\u001B[1m1/1\u001B[0m \u001B[32m━━━━━━━━━━━━━━━━━━━━\u001B[0m\u001B[37m\u001B[0m \u001B[1m0s\u001B[0m 16ms/step\n",
      "\u001B[1m1/1\u001B[0m \u001B[32m━━━━━━━━━━━━━━━━━━━━\u001B[0m\u001B[37m\u001B[0m \u001B[1m0s\u001B[0m 16ms/step\n",
      "\u001B[1m1/1\u001B[0m \u001B[32m━━━━━━━━━━━━━━━━━━━━\u001B[0m\u001B[37m\u001B[0m \u001B[1m0s\u001B[0m 15ms/step\n",
      "\u001B[1m1/1\u001B[0m \u001B[32m━━━━━━━━━━━━━━━━━━━━\u001B[0m\u001B[37m\u001B[0m \u001B[1m0s\u001B[0m 16ms/step\n",
      "\u001B[1m1/1\u001B[0m \u001B[32m━━━━━━━━━━━━━━━━━━━━\u001B[0m\u001B[37m\u001B[0m \u001B[1m0s\u001B[0m 16ms/step\n",
      "\u001B[1m1/1\u001B[0m \u001B[32m━━━━━━━━━━━━━━━━━━━━\u001B[0m\u001B[37m\u001B[0m \u001B[1m0s\u001B[0m 16ms/step\n",
      "\u001B[1m1/1\u001B[0m \u001B[32m━━━━━━━━━━━━━━━━━━━━\u001B[0m\u001B[37m\u001B[0m \u001B[1m0s\u001B[0m 16ms/step\n",
      "\u001B[1m1/1\u001B[0m \u001B[32m━━━━━━━━━━━━━━━━━━━━\u001B[0m\u001B[37m\u001B[0m \u001B[1m0s\u001B[0m 16ms/step\n",
      "\u001B[1m1/1\u001B[0m \u001B[32m━━━━━━━━━━━━━━━━━━━━\u001B[0m\u001B[37m\u001B[0m \u001B[1m0s\u001B[0m 16ms/step\n",
      "\u001B[1m1/1\u001B[0m \u001B[32m━━━━━━━━━━━━━━━━━━━━\u001B[0m\u001B[37m\u001B[0m \u001B[1m0s\u001B[0m 17ms/step\n",
      "\u001B[1m1/1\u001B[0m \u001B[32m━━━━━━━━━━━━━━━━━━━━\u001B[0m\u001B[37m\u001B[0m \u001B[1m0s\u001B[0m 17ms/step\n",
      "\u001B[1m1/1\u001B[0m \u001B[32m━━━━━━━━━━━━━━━━━━━━\u001B[0m\u001B[37m\u001B[0m \u001B[1m0s\u001B[0m 16ms/step\n",
      "\u001B[1m1/1\u001B[0m \u001B[32m━━━━━━━━━━━━━━━━━━━━\u001B[0m\u001B[37m\u001B[0m \u001B[1m0s\u001B[0m 16ms/step\n",
      "\u001B[1m1/1\u001B[0m \u001B[32m━━━━━━━━━━━━━━━━━━━━\u001B[0m\u001B[37m\u001B[0m \u001B[1m0s\u001B[0m 16ms/step\n",
      "\u001B[1m1/1\u001B[0m \u001B[32m━━━━━━━━━━━━━━━━━━━━\u001B[0m\u001B[37m\u001B[0m \u001B[1m0s\u001B[0m 17ms/step\n",
      "\u001B[1m1/1\u001B[0m \u001B[32m━━━━━━━━━━━━━━━━━━━━\u001B[0m\u001B[37m\u001B[0m \u001B[1m0s\u001B[0m 16ms/step\n",
      "\u001B[1m1/1\u001B[0m \u001B[32m━━━━━━━━━━━━━━━━━━━━\u001B[0m\u001B[37m\u001B[0m \u001B[1m0s\u001B[0m 16ms/step\n",
      "\u001B[1m1/1\u001B[0m \u001B[32m━━━━━━━━━━━━━━━━━━━━\u001B[0m\u001B[37m\u001B[0m \u001B[1m0s\u001B[0m 16ms/step\n",
      "\u001B[1m1/1\u001B[0m \u001B[32m━━━━━━━━━━━━━━━━━━━━\u001B[0m\u001B[37m\u001B[0m \u001B[1m0s\u001B[0m 18ms/step\n",
      "\u001B[1m1/1\u001B[0m \u001B[32m━━━━━━━━━━━━━━━━━━━━\u001B[0m\u001B[37m\u001B[0m \u001B[1m0s\u001B[0m 17ms/step\n",
      "\u001B[1m1/1\u001B[0m \u001B[32m━━━━━━━━━━━━━━━━━━━━\u001B[0m\u001B[37m\u001B[0m \u001B[1m0s\u001B[0m 16ms/step\n",
      "\u001B[1m1/1\u001B[0m \u001B[32m━━━━━━━━━━━━━━━━━━━━\u001B[0m\u001B[37m\u001B[0m \u001B[1m0s\u001B[0m 17ms/step\n",
      "\u001B[1m1/1\u001B[0m \u001B[32m━━━━━━━━━━━━━━━━━━━━\u001B[0m\u001B[37m\u001B[0m \u001B[1m0s\u001B[0m 15ms/step\n",
      "\u001B[1m1/1\u001B[0m \u001B[32m━━━━━━━━━━━━━━━━━━━━\u001B[0m\u001B[37m\u001B[0m \u001B[1m0s\u001B[0m 18ms/step\n",
      "\u001B[1m1/1\u001B[0m \u001B[32m━━━━━━━━━━━━━━━━━━━━\u001B[0m\u001B[37m\u001B[0m \u001B[1m0s\u001B[0m 16ms/step\n",
      "\u001B[1m1/1\u001B[0m \u001B[32m━━━━━━━━━━━━━━━━━━━━\u001B[0m\u001B[37m\u001B[0m \u001B[1m0s\u001B[0m 16ms/step\n",
      "\u001B[1m1/1\u001B[0m \u001B[32m━━━━━━━━━━━━━━━━━━━━\u001B[0m\u001B[37m\u001B[0m \u001B[1m0s\u001B[0m 15ms/step\n",
      "\u001B[1m1/1\u001B[0m \u001B[32m━━━━━━━━━━━━━━━━━━━━\u001B[0m\u001B[37m\u001B[0m \u001B[1m0s\u001B[0m 17ms/step\n",
      "\u001B[1m1/1\u001B[0m \u001B[32m━━━━━━━━━━━━━━━━━━━━\u001B[0m\u001B[37m\u001B[0m \u001B[1m0s\u001B[0m 16ms/step\n",
      "\u001B[1m1/1\u001B[0m \u001B[32m━━━━━━━━━━━━━━━━━━━━\u001B[0m\u001B[37m\u001B[0m \u001B[1m0s\u001B[0m 15ms/step\n",
      "\u001B[1m1/1\u001B[0m \u001B[32m━━━━━━━━━━━━━━━━━━━━\u001B[0m\u001B[37m\u001B[0m \u001B[1m0s\u001B[0m 17ms/step\n",
      "\u001B[1m1/1\u001B[0m \u001B[32m━━━━━━━━━━━━━━━━━━━━\u001B[0m\u001B[37m\u001B[0m \u001B[1m0s\u001B[0m 17ms/step\n",
      "\u001B[1m1/1\u001B[0m \u001B[32m━━━━━━━━━━━━━━━━━━━━\u001B[0m\u001B[37m\u001B[0m \u001B[1m0s\u001B[0m 18ms/step\n",
      "\u001B[1m1/1\u001B[0m \u001B[32m━━━━━━━━━━━━━━━━━━━━\u001B[0m\u001B[37m\u001B[0m \u001B[1m0s\u001B[0m 16ms/step\n",
      "\u001B[1m1/1\u001B[0m \u001B[32m━━━━━━━━━━━━━━━━━━━━\u001B[0m\u001B[37m\u001B[0m \u001B[1m0s\u001B[0m 16ms/step\n",
      "\u001B[1m1/1\u001B[0m \u001B[32m━━━━━━━━━━━━━━━━━━━━\u001B[0m\u001B[37m\u001B[0m \u001B[1m0s\u001B[0m 16ms/step\n",
      "\u001B[1m1/1\u001B[0m \u001B[32m━━━━━━━━━━━━━━━━━━━━\u001B[0m\u001B[37m\u001B[0m \u001B[1m0s\u001B[0m 16ms/step\n",
      "\u001B[1m1/1\u001B[0m \u001B[32m━━━━━━━━━━━━━━━━━━━━\u001B[0m\u001B[37m\u001B[0m \u001B[1m0s\u001B[0m 16ms/step\n",
      "\u001B[1m1/1\u001B[0m \u001B[32m━━━━━━━━━━━━━━━━━━━━\u001B[0m\u001B[37m\u001B[0m \u001B[1m0s\u001B[0m 17ms/step\n",
      "\u001B[1m1/1\u001B[0m \u001B[32m━━━━━━━━━━━━━━━━━━━━\u001B[0m\u001B[37m\u001B[0m \u001B[1m0s\u001B[0m 18ms/step\n",
      "\u001B[1m1/1\u001B[0m \u001B[32m━━━━━━━━━━━━━━━━━━━━\u001B[0m\u001B[37m\u001B[0m \u001B[1m0s\u001B[0m 17ms/step\n",
      "\u001B[1m1/1\u001B[0m \u001B[32m━━━━━━━━━━━━━━━━━━━━\u001B[0m\u001B[37m\u001B[0m \u001B[1m0s\u001B[0m 15ms/step\n",
      "\u001B[1m1/1\u001B[0m \u001B[32m━━━━━━━━━━━━━━━━━━━━\u001B[0m\u001B[37m\u001B[0m \u001B[1m0s\u001B[0m 16ms/step\n",
      "\u001B[1m1/1\u001B[0m \u001B[32m━━━━━━━━━━━━━━━━━━━━\u001B[0m\u001B[37m\u001B[0m \u001B[1m0s\u001B[0m 16ms/step\n",
      "\u001B[1m1/1\u001B[0m \u001B[32m━━━━━━━━━━━━━━━━━━━━\u001B[0m\u001B[37m\u001B[0m \u001B[1m0s\u001B[0m 16ms/step\n",
      "\u001B[1m1/1\u001B[0m \u001B[32m━━━━━━━━━━━━━━━━━━━━\u001B[0m\u001B[37m\u001B[0m \u001B[1m0s\u001B[0m 17ms/step\n",
      "\u001B[1m1/1\u001B[0m \u001B[32m━━━━━━━━━━━━━━━━━━━━\u001B[0m\u001B[37m\u001B[0m \u001B[1m0s\u001B[0m 17ms/step\n",
      "\u001B[1m1/1\u001B[0m \u001B[32m━━━━━━━━━━━━━━━━━━━━\u001B[0m\u001B[37m\u001B[0m \u001B[1m0s\u001B[0m 17ms/step\n",
      "\u001B[1m1/1\u001B[0m \u001B[32m━━━━━━━━━━━━━━━━━━━━\u001B[0m\u001B[37m\u001B[0m \u001B[1m0s\u001B[0m 16ms/step\n",
      "\u001B[1m1/1\u001B[0m \u001B[32m━━━━━━━━━━━━━━━━━━━━\u001B[0m\u001B[37m\u001B[0m \u001B[1m0s\u001B[0m 16ms/step\n",
      "\u001B[1m1/1\u001B[0m \u001B[32m━━━━━━━━━━━━━━━━━━━━\u001B[0m\u001B[37m\u001B[0m \u001B[1m0s\u001B[0m 16ms/step\n",
      "\u001B[1m1/1\u001B[0m \u001B[32m━━━━━━━━━━━━━━━━━━━━\u001B[0m\u001B[37m\u001B[0m \u001B[1m0s\u001B[0m 16ms/step\n",
      "\u001B[1m1/1\u001B[0m \u001B[32m━━━━━━━━━━━━━━━━━━━━\u001B[0m\u001B[37m\u001B[0m \u001B[1m0s\u001B[0m 16ms/step\n",
      "\u001B[1m1/1\u001B[0m \u001B[32m━━━━━━━━━━━━━━━━━━━━\u001B[0m\u001B[37m\u001B[0m \u001B[1m0s\u001B[0m 16ms/step\n",
      "\u001B[1m1/1\u001B[0m \u001B[32m━━━━━━━━━━━━━━━━━━━━\u001B[0m\u001B[37m\u001B[0m \u001B[1m0s\u001B[0m 16ms/step\n",
      "\u001B[1m1/1\u001B[0m \u001B[32m━━━━━━━━━━━━━━━━━━━━\u001B[0m\u001B[37m\u001B[0m \u001B[1m0s\u001B[0m 15ms/step\n",
      "\u001B[1m1/1\u001B[0m \u001B[32m━━━━━━━━━━━━━━━━━━━━\u001B[0m\u001B[37m\u001B[0m \u001B[1m0s\u001B[0m 17ms/step\n",
      "\u001B[1m1/1\u001B[0m \u001B[32m━━━━━━━━━━━━━━━━━━━━\u001B[0m\u001B[37m\u001B[0m \u001B[1m0s\u001B[0m 15ms/step\n",
      "\u001B[1m1/1\u001B[0m \u001B[32m━━━━━━━━━━━━━━━━━━━━\u001B[0m\u001B[37m\u001B[0m \u001B[1m0s\u001B[0m 16ms/step\n",
      "\u001B[1m1/1\u001B[0m \u001B[32m━━━━━━━━━━━━━━━━━━━━\u001B[0m\u001B[37m\u001B[0m \u001B[1m0s\u001B[0m 15ms/step\n",
      "\u001B[1m1/1\u001B[0m \u001B[32m━━━━━━━━━━━━━━━━━━━━\u001B[0m\u001B[37m\u001B[0m \u001B[1m0s\u001B[0m 17ms/step\n",
      "\u001B[1m1/1\u001B[0m \u001B[32m━━━━━━━━━━━━━━━━━━━━\u001B[0m\u001B[37m\u001B[0m \u001B[1m0s\u001B[0m 19ms/step\n",
      "\u001B[1m1/1\u001B[0m \u001B[32m━━━━━━━━━━━━━━━━━━━━\u001B[0m\u001B[37m\u001B[0m \u001B[1m0s\u001B[0m 16ms/step\n",
      "\u001B[1m1/1\u001B[0m \u001B[32m━━━━━━━━━━━━━━━━━━━━\u001B[0m\u001B[37m\u001B[0m \u001B[1m0s\u001B[0m 17ms/step\n",
      "\u001B[1m1/1\u001B[0m \u001B[32m━━━━━━━━━━━━━━━━━━━━\u001B[0m\u001B[37m\u001B[0m \u001B[1m0s\u001B[0m 16ms/step\n",
      "\u001B[1m1/1\u001B[0m \u001B[32m━━━━━━━━━━━━━━━━━━━━\u001B[0m\u001B[37m\u001B[0m \u001B[1m0s\u001B[0m 16ms/step\n",
      "\u001B[1m1/1\u001B[0m \u001B[32m━━━━━━━━━━━━━━━━━━━━\u001B[0m\u001B[37m\u001B[0m \u001B[1m0s\u001B[0m 16ms/step\n",
      "\u001B[1m1/1\u001B[0m \u001B[32m━━━━━━━━━━━━━━━━━━━━\u001B[0m\u001B[37m\u001B[0m \u001B[1m0s\u001B[0m 16ms/step\n",
      "\u001B[1m1/1\u001B[0m \u001B[32m━━━━━━━━━━━━━━━━━━━━\u001B[0m\u001B[37m\u001B[0m \u001B[1m0s\u001B[0m 15ms/step\n",
      "\u001B[1m1/1\u001B[0m \u001B[32m━━━━━━━━━━━━━━━━━━━━\u001B[0m\u001B[37m\u001B[0m \u001B[1m0s\u001B[0m 16ms/step\n",
      "\u001B[1m1/1\u001B[0m \u001B[32m━━━━━━━━━━━━━━━━━━━━\u001B[0m\u001B[37m\u001B[0m \u001B[1m0s\u001B[0m 16ms/step\n",
      "\u001B[1m1/1\u001B[0m \u001B[32m━━━━━━━━━━━━━━━━━━━━\u001B[0m\u001B[37m\u001B[0m \u001B[1m0s\u001B[0m 17ms/step\n",
      "\u001B[1m1/1\u001B[0m \u001B[32m━━━━━━━━━━━━━━━━━━━━\u001B[0m\u001B[37m\u001B[0m \u001B[1m0s\u001B[0m 17ms/step\n",
      "\u001B[1m1/1\u001B[0m \u001B[32m━━━━━━━━━━━━━━━━━━━━\u001B[0m\u001B[37m\u001B[0m \u001B[1m0s\u001B[0m 15ms/step\n",
      "\u001B[1m1/1\u001B[0m \u001B[32m━━━━━━━━━━━━━━━━━━━━\u001B[0m\u001B[37m\u001B[0m \u001B[1m0s\u001B[0m 15ms/step\n",
      "\u001B[1m1/1\u001B[0m \u001B[32m━━━━━━━━━━━━━━━━━━━━\u001B[0m\u001B[37m\u001B[0m \u001B[1m0s\u001B[0m 16ms/step\n",
      "\u001B[1m1/1\u001B[0m \u001B[32m━━━━━━━━━━━━━━━━━━━━\u001B[0m\u001B[37m\u001B[0m \u001B[1m0s\u001B[0m 16ms/step\n",
      "\u001B[1m1/1\u001B[0m \u001B[32m━━━━━━━━━━━━━━━━━━━━\u001B[0m\u001B[37m\u001B[0m \u001B[1m0s\u001B[0m 18ms/step\n",
      "\u001B[1m1/1\u001B[0m \u001B[32m━━━━━━━━━━━━━━━━━━━━\u001B[0m\u001B[37m\u001B[0m \u001B[1m0s\u001B[0m 19ms/step\n",
      "\u001B[1m1/1\u001B[0m \u001B[32m━━━━━━━━━━━━━━━━━━━━\u001B[0m\u001B[37m\u001B[0m \u001B[1m0s\u001B[0m 19ms/step\n",
      "\u001B[1m1/1\u001B[0m \u001B[32m━━━━━━━━━━━━━━━━━━━━\u001B[0m\u001B[37m\u001B[0m \u001B[1m0s\u001B[0m 18ms/step\n",
      "\u001B[1m1/1\u001B[0m \u001B[32m━━━━━━━━━━━━━━━━━━━━\u001B[0m\u001B[37m\u001B[0m \u001B[1m0s\u001B[0m 17ms/step\n",
      "\u001B[1m1/1\u001B[0m \u001B[32m━━━━━━━━━━━━━━━━━━━━\u001B[0m\u001B[37m\u001B[0m \u001B[1m0s\u001B[0m 17ms/step\n",
      "\u001B[1m1/1\u001B[0m \u001B[32m━━━━━━━━━━━━━━━━━━━━\u001B[0m\u001B[37m\u001B[0m \u001B[1m0s\u001B[0m 16ms/step\n",
      "\u001B[1m1/1\u001B[0m \u001B[32m━━━━━━━━━━━━━━━━━━━━\u001B[0m\u001B[37m\u001B[0m \u001B[1m0s\u001B[0m 19ms/step\n",
      "\u001B[1m1/1\u001B[0m \u001B[32m━━━━━━━━━━━━━━━━━━━━\u001B[0m\u001B[37m\u001B[0m \u001B[1m0s\u001B[0m 17ms/step\n",
      "\u001B[1m1/1\u001B[0m \u001B[32m━━━━━━━━━━━━━━━━━━━━\u001B[0m\u001B[37m\u001B[0m \u001B[1m0s\u001B[0m 17ms/step\n",
      "\u001B[1m1/1\u001B[0m \u001B[32m━━━━━━━━━━━━━━━━━━━━\u001B[0m\u001B[37m\u001B[0m \u001B[1m0s\u001B[0m 17ms/step\n",
      "\u001B[1m1/1\u001B[0m \u001B[32m━━━━━━━━━━━━━━━━━━━━\u001B[0m\u001B[37m\u001B[0m \u001B[1m0s\u001B[0m 17ms/step\n",
      "\u001B[1m1/1\u001B[0m \u001B[32m━━━━━━━━━━━━━━━━━━━━\u001B[0m\u001B[37m\u001B[0m \u001B[1m0s\u001B[0m 17ms/step\n",
      "\u001B[1m1/1\u001B[0m \u001B[32m━━━━━━━━━━━━━━━━━━━━\u001B[0m\u001B[37m\u001B[0m \u001B[1m0s\u001B[0m 16ms/step\n",
      "\u001B[1m1/1\u001B[0m \u001B[32m━━━━━━━━━━━━━━━━━━━━\u001B[0m\u001B[37m\u001B[0m \u001B[1m0s\u001B[0m 15ms/step\n",
      "\u001B[1m1/1\u001B[0m \u001B[32m━━━━━━━━━━━━━━━━━━━━\u001B[0m\u001B[37m\u001B[0m \u001B[1m0s\u001B[0m 15ms/step\n"
     ]
    }
   ],
   "execution_count": 46
  },
  {
   "cell_type": "code",
   "metadata": {
    "ExecuteTime": {
     "end_time": "2024-10-02T02:51:12.615138Z",
     "start_time": "2024-10-02T02:51:12.612704Z"
    }
   },
   "source": [],
   "outputs": [],
   "execution_count": null
  },
  {
   "cell_type": "code",
   "metadata": {
    "ExecuteTime": {
     "end_time": "2024-10-02T02:51:12.704103Z",
     "start_time": "2024-10-02T02:51:12.700038Z"
    }
   },
   "source": [
    "predict_y = pd.DataFrame(predict_y).iloc[:,0].values"
   ],
   "outputs": [],
   "execution_count": 47
  },
  {
   "cell_type": "code",
   "metadata": {
    "ExecuteTime": {
     "end_time": "2024-10-02T02:51:12.970647Z",
     "start_time": "2024-10-02T02:51:12.787950Z"
    }
   },
   "source": [
    "fig = plt.figure(figsize=(15,7))\n",
    "pyplot.plot(np.array(predict_y),'r',label='prediction')\n",
    "pyplot.plot(true_Y,'b',label='true')\n",
    "pyplot.legend(loc='upper right')\n",
    "pyplot.show()\n",
    "\n",
    "# calculate RMSE \n",
    "rmse = np.sqrt(mean_squared_error(np.array(predict_y),true_Y))\n",
    "print('Test RMSE: %.3f' % rmse)\n",
    "def mape(Pre,true):\n",
    "    return np.mean(np.abs((Pre - true) / true)) * 100\n",
    "def smape(Pre,true):\n",
    "    return 2.0 * np.mean(np.abs(Pre - true) / (np.abs(Pre) + np.abs(true))) * 100\n",
    "print('Test Mape: %.3f' % mape(np.squeeze(np.array(predict_y)),true_Y))\n",
    "print('Test SMape: %.3f' % smape(np.squeeze(np.array(predict_y)),true_Y))\n",
    "print(f'模型运行时间:{run_time:7.3f} S')"
   ],
   "outputs": [
    {
     "data": {
      "text/plain": [
       "<Figure size 1500x700 with 1 Axes>"
      ],
      "image/png": "[encoded data removed]"
     },
     "metadata": {},
     "output_type": "display_data"
    },
    {
     "name": "stdout",
     "output_type": "stream",
     "text": [
      "Test RMSE: 60.328\n",
      "Test Mape: 3.567\n",
      "Test SMape: 3.666\n",
      "模型运行时间:114.127 S\n"
     ]
    }
   ],
   "execution_count": 48
  },
  {
   "cell_type": "markdown",
   "metadata": {},
   "source": [
    "c = pd.DataFrame(true_Y,columns=[\"真实值\"])\n",
    "c.to_csv(r\"C:\\Users\\Administrator\\Desktop\\活\\接活论文\\2020.03表现最好\\2020年03月真实值结果.csv\",sep=',',index=False,header=True,encoding='utf-8-sig')"
   ]
  },
  {
   "cell_type": "markdown",
   "metadata": {},
   "source": [
    "c = pd.DataFrame(predict_y,columns=[\"预测值\"])\n",
    "c.to_csv(r\"C:\\Users\\Administrator\\Desktop\\活\\接活论文\\2020.06\\2020年06月预测结果.csv\",sep=',',index=False,header=True,encoding='utf-8-sig')"
   ]
  }
 ],
 "metadata": {
  "kernelspec": {
   "display_name": "Python 3 (ipykernel)",
   "language": "python",
   "name": "python3"
  },
  "language_info": {
   "codemirror_mode": {
    "name": "ipython",
    "version": 3
   },
   "file_extension": ".py",
   "mimetype": "text/x-python",
   "name": "python",
   "nbconvert_exporter": "python",
   "pygments_lexer": "ipython3",
   "version": "3.11.4"
  }
 },
 "nbformat": 4,
 "nbformat_minor": 4
}
